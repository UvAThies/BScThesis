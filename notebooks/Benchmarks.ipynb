{
 "cells": [
  {
   "cell_type": "code",
   "execution_count": 1,
   "id": "948f1187",
   "metadata": {
    "scrolled": true
   },
   "outputs": [
    {
     "name": "stdout",
     "output_type": "stream",
     "text": [
      "Using 16x type with input: 256 bits, and output: 64 bits\n",
      "Using 64x type with input: 256 bits, and output: 64 bits\n",
      "Using 256x type with input: 256 bits, and output: 64 bits\n",
      "Using 1024x type with input: 256 bits, and output: 64 bits\n",
      "Using 16x type with input: 128 bits, and output: 64 bits\n",
      "Using 64x type with input: 128 bits, and output: 64 bits\n",
      "Using 256x type with input: 128 bits, and output: 64 bits\n",
      "Using 1024x type with input: 128 bits, and output: 64 bits\n",
      "\u001b[3m                                        Benchmarks, repeat=2, number=2                                        \u001b[0m\n",
      "┏━━━━━━━━━━━━━━┳━━━━━━━━━┳━━━━━━━━━┳━━━━━━━━━┳━━━━━━━━━┳━━━━━━━━━━━━━━━━━┳━━━━━━━━━━━━━━━━━┳━━━━━━━━━━━━━━━━━┓\n",
      "┃\u001b[1m \u001b[0m\u001b[1m   Benchmark\u001b[0m\u001b[1m \u001b[0m┃\u001b[1m \u001b[0m\u001b[1m   Args\u001b[0m\u001b[1m \u001b[0m┃\u001b[1m \u001b[0m\u001b[1mMin    \u001b[0m\u001b[1m \u001b[0m┃\u001b[1m \u001b[0m\u001b[1mMax    \u001b[0m\u001b[1m \u001b[0m┃\u001b[1m \u001b[0m\u001b[1mMean   \u001b[0m\u001b[1m \u001b[0m┃\u001b[1m \u001b[0m\u001b[1mMin (+)        \u001b[0m\u001b[1m \u001b[0m┃\u001b[1m \u001b[0m\u001b[1mMax (+)        \u001b[0m\u001b[1m \u001b[0m┃\u001b[1m \u001b[0m\u001b[1mMean (+)       \u001b[0m\u001b[1m \u001b[0m┃\n",
      "┡━━━━━━━━━━━━━━╇━━━━━━━━━╇━━━━━━━━━╇━━━━━━━━━╇━━━━━━━━━╇━━━━━━━━━━━━━━━━━╇━━━━━━━━━━━━━━━━━╇━━━━━━━━━━━━━━━━━┩\n",
      "│\u001b[36m \u001b[0m\u001b[36mtdes-encrypt\u001b[0m\u001b[36m \u001b[0m│\u001b[36m \u001b[0m\u001b[36m  (16,)\u001b[0m\u001b[36m \u001b[0m│ 0.451   │ 0.497   │ 0.474   │\u001b[34m \u001b[0m\u001b[32m0.018 (25.3x)  \u001b[0m\u001b[34m \u001b[0m│\u001b[34m \u001b[0m\u001b[32m0.018 (27.3x)  \u001b[0m\u001b[34m \u001b[0m│\u001b[34m \u001b[0m\u001b[32m0.018 (26.3x)  \u001b[0m\u001b[34m \u001b[0m│\n",
      "│\u001b[36m \u001b[0m\u001b[36mtdes-encrypt\u001b[0m\u001b[36m \u001b[0m│\u001b[36m \u001b[0m\u001b[36m  (64,)\u001b[0m\u001b[36m \u001b[0m│ 0.994   │ 1.038   │ 1.016   │\u001b[34m \u001b[0m\u001b[32m0.020 (49.7x)  \u001b[0m\u001b[34m \u001b[0m│\u001b[34m \u001b[0m\u001b[32m0.021 (48.3x)  \u001b[0m\u001b[34m \u001b[0m│\u001b[34m \u001b[0m\u001b[32m0.021 (49.0x)  \u001b[0m\u001b[34m \u001b[0m│\n",
      "│\u001b[36m \u001b[0m\u001b[36mtdes-encrypt\u001b[0m\u001b[36m \u001b[0m│\u001b[36m \u001b[0m\u001b[36m (256,)\u001b[0m\u001b[36m \u001b[0m│ 3.175   │ 3.286   │ 3.231   │\u001b[34m \u001b[0m\u001b[32m0.036 (87.6x)  \u001b[0m\u001b[34m \u001b[0m│\u001b[34m \u001b[0m\u001b[32m0.036 (90.0x)  \u001b[0m\u001b[34m \u001b[0m│\u001b[34m \u001b[0m\u001b[32m0.036 (88.8x)  \u001b[0m\u001b[34m \u001b[0m│\n",
      "│\u001b[36m \u001b[0m\u001b[36mtdes-encrypt\u001b[0m\u001b[36m \u001b[0m│\u001b[36m \u001b[0m\u001b[36m(1024,)\u001b[0m\u001b[36m \u001b[0m│ 11.913  │ 12.257  │ 12.085  │\u001b[34m \u001b[0m\u001b[32m0.102 (117.3x) \u001b[0m\u001b[34m \u001b[0m│\u001b[34m \u001b[0m\u001b[32m0.102 (120.1x) \u001b[0m\u001b[34m \u001b[0m│\u001b[34m \u001b[0m\u001b[32m0.102 (118.7x) \u001b[0m\u001b[34m \u001b[0m│\n",
      "│\u001b[36m \u001b[0m\u001b[36m des-encrypt\u001b[0m\u001b[36m \u001b[0m│\u001b[36m \u001b[0m\u001b[36m  (16,)\u001b[0m\u001b[36m \u001b[0m│ 0.452   │ 0.482   │ 0.467   │\u001b[34m \u001b[0m\u001b[32m0.017 (26.6x)  \u001b[0m\u001b[34m \u001b[0m│\u001b[34m \u001b[0m\u001b[32m0.018 (26.2x)  \u001b[0m\u001b[34m \u001b[0m│\u001b[34m \u001b[0m\u001b[32m0.018 (26.4x)  \u001b[0m\u001b[34m \u001b[0m│\n",
      "│\u001b[36m \u001b[0m\u001b[36m des-encrypt\u001b[0m\u001b[36m \u001b[0m│\u001b[36m \u001b[0m\u001b[36m  (64,)\u001b[0m\u001b[36m \u001b[0m│ 0.995   │ 1.036   │ 1.016   │\u001b[34m \u001b[0m\u001b[32m0.020 (48.9x)  \u001b[0m\u001b[34m \u001b[0m│\u001b[34m \u001b[0m\u001b[32m0.021 (49.0x)  \u001b[0m\u001b[34m \u001b[0m│\u001b[34m \u001b[0m\u001b[32m0.021 (48.9x)  \u001b[0m\u001b[34m \u001b[0m│\n",
      "│\u001b[36m \u001b[0m\u001b[36m des-encrypt\u001b[0m\u001b[36m \u001b[0m│\u001b[36m \u001b[0m\u001b[36m (256,)\u001b[0m\u001b[36m \u001b[0m│ 3.181   │ 3.283   │ 3.232   │\u001b[34m \u001b[0m\u001b[32m0.030 (105.8x) \u001b[0m\u001b[34m \u001b[0m│\u001b[34m \u001b[0m\u001b[32m0.031 (105.1x) \u001b[0m\u001b[34m \u001b[0m│\u001b[34m \u001b[0m\u001b[32m0.031 (105.5x) \u001b[0m\u001b[34m \u001b[0m│\n",
      "│\u001b[36m \u001b[0m\u001b[36m des-encrypt\u001b[0m\u001b[36m \u001b[0m│\u001b[36m \u001b[0m\u001b[36m(1024,)\u001b[0m\u001b[36m \u001b[0m│ 11.875  │ 12.201  │ 12.038  │\u001b[34m \u001b[0m\u001b[32m0.073 (163.0x) \u001b[0m\u001b[34m \u001b[0m│\u001b[34m \u001b[0m\u001b[32m0.073 (166.4x) \u001b[0m\u001b[34m \u001b[0m│\u001b[34m \u001b[0m\u001b[32m0.073 (164.7x) \u001b[0m\u001b[34m \u001b[0m│\n",
      "└──────────────┴─────────┴─────────┴─────────┴─────────┴─────────────────┴─────────────────┴─────────────────┘\n",
      "\n",
      "Results exported to tmp.csv\n",
      "Completed in seconds f89.83\n"
     ]
    }
   ],
   "source": [
    "! python richbench2.py ./benchmarks --times 2 --repeat 2 --csv tmp.csv"
   ]
  }
 ],
 "metadata": {
  "kernelspec": {
   "display_name": "Python 3 (ipykernel)",
   "language": "python",
   "name": "python3"
  },
  "language_info": {
   "codemirror_mode": {
    "name": "ipython",
    "version": 3
   },
   "file_extension": ".py",
   "mimetype": "text/x-python",
   "name": "python",
   "nbconvert_exporter": "python",
   "pygments_lexer": "ipython3",
   "version": "3.10.4"
  }
 },
 "nbformat": 4,
 "nbformat_minor": 5
}
