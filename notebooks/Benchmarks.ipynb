{
 "cells": [
  {
   "cell_type": "code",
   "execution_count": 5,
   "id": "948f1187",
   "metadata": {
    "scrolled": true
   },
   "outputs": [
    {
     "name": "stdout",
     "output_type": "stream",
     "text": [
      "starting sdes-encrypt (16,)\n",
      "Using 16x type with input: 32 bits, and output: 32 bits\n",
      "starting sdes-encrypt (4096,)\n",
      "Using 4096x type with input: 32 bits, and output: 32 bits\n",
      "starting sdes-decrypt (16,)\n",
      "Using 16x type with input: 32 bits, and output: 32 bits\n",
      "starting sdes-decrypt (4096,)\n",
      "Using 4096x type with input: 32 bits, and output: 32 bits\n",
      "\u001b[3m                                        Benchmarks, repeat=3, number=2                                        \u001b[0m\n",
      "┏━━━━━━━━━━━━━━┳━━━━━━━━━┳━━━━━━━━━┳━━━━━━━━━┳━━━━━━━━━┳━━━━━━━━━━━━━━━━━┳━━━━━━━━━━━━━━━━━┳━━━━━━━━━━━━━━━━━┓\n",
      "┃\u001b[1m \u001b[0m\u001b[1m   Benchmark\u001b[0m\u001b[1m \u001b[0m┃\u001b[1m \u001b[0m\u001b[1m   Args\u001b[0m\u001b[1m \u001b[0m┃\u001b[1m \u001b[0m\u001b[1mMin    \u001b[0m\u001b[1m \u001b[0m┃\u001b[1m \u001b[0m\u001b[1mMax    \u001b[0m\u001b[1m \u001b[0m┃\u001b[1m \u001b[0m\u001b[1mMean   \u001b[0m\u001b[1m \u001b[0m┃\u001b[1m \u001b[0m\u001b[1mMin (+)        \u001b[0m\u001b[1m \u001b[0m┃\u001b[1m \u001b[0m\u001b[1mMax (+)        \u001b[0m\u001b[1m \u001b[0m┃\u001b[1m \u001b[0m\u001b[1mMean (+)       \u001b[0m\u001b[1m \u001b[0m┃\n",
      "┡━━━━━━━━━━━━━━╇━━━━━━━━━╇━━━━━━━━━╇━━━━━━━━━╇━━━━━━━━━╇━━━━━━━━━━━━━━━━━╇━━━━━━━━━━━━━━━━━╇━━━━━━━━━━━━━━━━━┩\n",
      "│\u001b[36m \u001b[0m\u001b[36msdes-encrypt\u001b[0m\u001b[36m \u001b[0m│\u001b[36m \u001b[0m\u001b[36m  (16,)\u001b[0m\u001b[36m \u001b[0m│ 0.003   │ 0.004   │ 0.003   │\u001b[34m \u001b[0m\u001b[32m0.000 (347.6x) \u001b[0m\u001b[34m \u001b[0m│\u001b[34m \u001b[0m\u001b[32m0.000 (237.9x) \u001b[0m\u001b[34m \u001b[0m│\u001b[34m \u001b[0m\u001b[32m0.000 (292.6x) \u001b[0m\u001b[34m \u001b[0m│\n",
      "│\u001b[36m \u001b[0m\u001b[36msdes-encrypt\u001b[0m\u001b[36m \u001b[0m│\u001b[36m \u001b[0m\u001b[36m(4096,)\u001b[0m\u001b[36m \u001b[0m│ 0.222   │ 0.231   │ 0.225   │\u001b[34m \u001b[0m\u001b[32m0.000          \u001b[0m\u001b[34m \u001b[0m│\u001b[34m \u001b[0m\u001b[32m0.000          \u001b[0m\u001b[34m \u001b[0m│\u001b[34m \u001b[0m\u001b[32m0.000          \u001b[0m\u001b[34m \u001b[0m│\n",
      "│\u001b[36m              \u001b[0m│\u001b[36m         \u001b[0m│         │         │         │\u001b[34m \u001b[0m\u001b[32m(26375.2x)     \u001b[0m\u001b[34m \u001b[0m│\u001b[34m \u001b[0m\u001b[32m(13874.5x)     \u001b[0m\u001b[34m \u001b[0m│\u001b[34m \u001b[0m\u001b[32m(19959.1x)     \u001b[0m\u001b[34m \u001b[0m│\n",
      "│\u001b[36m \u001b[0m\u001b[36msdes-decrypt\u001b[0m\u001b[36m \u001b[0m│\u001b[36m \u001b[0m\u001b[36m  (16,)\u001b[0m\u001b[36m \u001b[0m│ 0.003   │ 0.003   │ 0.003   │\u001b[34m \u001b[0m\u001b[32m0.000 (381.3x) \u001b[0m\u001b[34m \u001b[0m│\u001b[34m \u001b[0m\u001b[32m0.000 (220.2x) \u001b[0m\u001b[34m \u001b[0m│\u001b[34m \u001b[0m\u001b[32m0.000 (300.1x) \u001b[0m\u001b[34m \u001b[0m│\n",
      "│\u001b[36m \u001b[0m\u001b[36msdes-decrypt\u001b[0m\u001b[36m \u001b[0m│\u001b[36m \u001b[0m\u001b[36m(4096,)\u001b[0m\u001b[36m \u001b[0m│ 0.223   │ 0.227   │ 0.224   │\u001b[34m \u001b[0m\u001b[32m0.000          \u001b[0m\u001b[34m \u001b[0m│\u001b[34m \u001b[0m\u001b[32m0.000          \u001b[0m\u001b[34m \u001b[0m│\u001b[34m \u001b[0m\u001b[32m0.000          \u001b[0m\u001b[34m \u001b[0m│\n",
      "│\u001b[36m              \u001b[0m│\u001b[36m         \u001b[0m│         │         │         │\u001b[34m \u001b[0m\u001b[32m(27727.9x)     \u001b[0m\u001b[34m \u001b[0m│\u001b[34m \u001b[0m\u001b[32m(14011.9x)     \u001b[0m\u001b[34m \u001b[0m│\u001b[34m \u001b[0m\u001b[32m(20495.2x)     \u001b[0m\u001b[34m \u001b[0m│\n",
      "└──────────────┴─────────┴─────────┴─────────┴─────────┴─────────────────┴─────────────────┴─────────────────┘\n",
      "\n",
      "Results exported to sdes.csv\n",
      "Completed in 15.71 seconds.\n"
     ]
    }
   ],
   "source": [
    "! python richbench2.py ./benchmarks --times 2 --repeat 3 --csv sdes.csv"
   ]
  }
 ],
 "metadata": {
  "kernelspec": {
   "display_name": "Python 3 (ipykernel)",
   "language": "python",
   "name": "python3"
  },
  "language_info": {
   "codemirror_mode": {
    "name": "ipython",
    "version": 3
   },
   "file_extension": ".py",
   "mimetype": "text/x-python",
   "name": "python",
   "nbconvert_exporter": "python",
   "pygments_lexer": "ipython3",
   "version": "3.10.4"
  }
 },
 "nbformat": 4,
 "nbformat_minor": 5
}
