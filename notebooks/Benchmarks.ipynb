{
 "cells": [
  {
   "cell_type": "code",
   "execution_count": 9,
   "id": "948f1187",
   "metadata": {
    "scrolled": true
   },
   "outputs": [
    {
     "name": "stdout",
     "output_type": "stream",
     "text": [
      "starting des-encrypt (4096,)\n",
      "Using 4096x type with input: 128 bits, and output: 64 bits\n",
      "starting des-decrypt (4096,)\n",
      "Using 4096x type with input: 128 bits, and output: 64 bits\n",
      "starting desl-encrypt (4096,)\n",
      "Using 4096x type with input: 128 bits, and output: 64 bits\n",
      "starting desl-decrypt (4096,)\n",
      "Using 4096x type with input: 128 bits, and output: 64 bits\n",
      "starting desx-encrypt (4096,)\n",
      "Using 4096x type with input: 128 bits, and output: 64 bits\n",
      "starting desx-decrypt (4096,)\n",
      "Using 4096x type with input: 128 bits, and output: 64 bits\n",
      "starting desxl-encrypt (4096,)\n",
      "Using 4096x type with input: 128 bits, and output: 64 bits\n",
      "starting desxl-decrypt (4096,)\n",
      "Using 4096x type with input: 128 bits, and output: 64 bits\n",
      "starting tdes-encrypt (4096,)\n",
      "Using 4096x type with input: 256 bits, and output: 64 bits\n",
      "starting tdes-decrypt (4096,)\n",
      "Using 4096x type with input: 256 bits, and output: 64 bits\n",
      "starting pydes-encrypt (4096,)\n",
      "starting pydes-decrypt (4096,)\n",
      "starting pytdes-encrypt (4096,)\n",
      "starting pytdes-decrypt (4096,)\n",
      "\u001b[3m                                         Benchmarks, repeat=2, number=1                                         \u001b[0m\n",
      "┏━━━━━━━━━━━━━━━━┳━━━━━━━━━┳━━━━━━━━━┳━━━━━━━━━┳━━━━━━━━━┳━━━━━━━━━━━━━━━━━┳━━━━━━━━━━━━━━━━━┳━━━━━━━━━━━━━━━━━┓\n",
      "┃\u001b[1m \u001b[0m\u001b[1m     Benchmark\u001b[0m\u001b[1m \u001b[0m┃\u001b[1m \u001b[0m\u001b[1m   Args\u001b[0m\u001b[1m \u001b[0m┃\u001b[1m \u001b[0m\u001b[1mMin    \u001b[0m\u001b[1m \u001b[0m┃\u001b[1m \u001b[0m\u001b[1mMax    \u001b[0m\u001b[1m \u001b[0m┃\u001b[1m \u001b[0m\u001b[1mMean   \u001b[0m\u001b[1m \u001b[0m┃\u001b[1m \u001b[0m\u001b[1mMin (+)        \u001b[0m\u001b[1m \u001b[0m┃\u001b[1m \u001b[0m\u001b[1mMax (+)        \u001b[0m\u001b[1m \u001b[0m┃\u001b[1m \u001b[0m\u001b[1mMean (+)       \u001b[0m\u001b[1m \u001b[0m┃\n",
      "┡━━━━━━━━━━━━━━━━╇━━━━━━━━━╇━━━━━━━━━╇━━━━━━━━━╇━━━━━━━━━╇━━━━━━━━━━━━━━━━━╇━━━━━━━━━━━━━━━━━╇━━━━━━━━━━━━━━━━━┩\n",
      "│\u001b[36m \u001b[0m\u001b[36m   des-encrypt\u001b[0m\u001b[36m \u001b[0m│\u001b[36m \u001b[0m\u001b[36m(4096,)\u001b[0m\u001b[36m \u001b[0m│ 0.136   │ 0.139   │ 0.138   │\u001b[34m \u001b[0m\u001b[32m0.000          \u001b[0m\u001b[34m \u001b[0m│\u001b[34m \u001b[0m\u001b[32m0.000 (9484.5x)\u001b[0m\u001b[34m \u001b[0m│\u001b[34m \u001b[0m\u001b[32m0.000          \u001b[0m\u001b[34m \u001b[0m│\n",
      "│\u001b[36m                \u001b[0m│\u001b[36m         \u001b[0m│         │         │         │\u001b[34m \u001b[0m\u001b[32m(21126.0x)     \u001b[0m\u001b[34m \u001b[0m│\u001b[34m                 \u001b[0m│\u001b[34m \u001b[0m\u001b[32m(13036.3x)     \u001b[0m\u001b[34m \u001b[0m│\n",
      "│\u001b[36m \u001b[0m\u001b[36m   des-decrypt\u001b[0m\u001b[36m \u001b[0m│\u001b[36m \u001b[0m\u001b[36m(4096,)\u001b[0m\u001b[36m \u001b[0m│ 0.137   │ 0.140   │ 0.138   │\u001b[34m \u001b[0m\u001b[32m0.000          \u001b[0m\u001b[34m \u001b[0m│\u001b[34m \u001b[0m\u001b[32m0.000 (8802.7x)\u001b[0m\u001b[34m \u001b[0m│\u001b[34m \u001b[0m\u001b[32m0.000          \u001b[0m\u001b[34m \u001b[0m│\n",
      "│\u001b[36m                \u001b[0m│\u001b[36m         \u001b[0m│         │         │         │\u001b[34m \u001b[0m\u001b[32m(20403.2x)     \u001b[0m\u001b[34m \u001b[0m│\u001b[34m                 \u001b[0m│\u001b[34m \u001b[0m\u001b[32m(12248.2x)     \u001b[0m\u001b[34m \u001b[0m│\n",
      "│\u001b[36m \u001b[0m\u001b[36m  desl-encrypt\u001b[0m\u001b[36m \u001b[0m│\u001b[36m \u001b[0m\u001b[36m(4096,)\u001b[0m\u001b[36m \u001b[0m│ 0.134   │ 0.141   │ 0.137   │\u001b[34m \u001b[0m\u001b[32m0.000          \u001b[0m\u001b[34m \u001b[0m│\u001b[34m \u001b[0m\u001b[32m0.000 (9599.1x)\u001b[0m\u001b[34m \u001b[0m│\u001b[34m \u001b[0m\u001b[32m0.000          \u001b[0m\u001b[34m \u001b[0m│\n",
      "│\u001b[36m                \u001b[0m│\u001b[36m         \u001b[0m│         │         │         │\u001b[34m \u001b[0m\u001b[32m(19777.7x)     \u001b[0m\u001b[34m \u001b[0m│\u001b[34m                 \u001b[0m│\u001b[34m \u001b[0m\u001b[32m(12813.2x)     \u001b[0m\u001b[34m \u001b[0m│\n",
      "│\u001b[36m \u001b[0m\u001b[36m  desl-decrypt\u001b[0m\u001b[36m \u001b[0m│\u001b[36m \u001b[0m\u001b[36m(4096,)\u001b[0m\u001b[36m \u001b[0m│ 0.138   │ 0.139   │ 0.138   │\u001b[34m \u001b[0m\u001b[32m0.000          \u001b[0m\u001b[34m \u001b[0m│\u001b[34m \u001b[0m\u001b[32m0.000          \u001b[0m\u001b[34m \u001b[0m│\u001b[34m \u001b[0m\u001b[32m0.000          \u001b[0m\u001b[34m \u001b[0m│\n",
      "│\u001b[36m                \u001b[0m│\u001b[36m         \u001b[0m│         │         │         │\u001b[34m \u001b[0m\u001b[32m(21781.5x)     \u001b[0m\u001b[34m \u001b[0m│\u001b[34m \u001b[0m\u001b[32m(10768.8x)     \u001b[0m\u001b[34m \u001b[0m│\u001b[34m \u001b[0m\u001b[32m(14394.1x)     \u001b[0m\u001b[34m \u001b[0m│\n",
      "│\u001b[36m \u001b[0m\u001b[36m  desx-encrypt\u001b[0m\u001b[36m \u001b[0m│\u001b[36m \u001b[0m\u001b[36m(4096,)\u001b[0m\u001b[36m \u001b[0m│ 0.130   │ 0.142   │ 0.136   │\u001b[34m \u001b[0m\u001b[32m0.000          \u001b[0m\u001b[34m \u001b[0m│\u001b[34m \u001b[0m\u001b[32m0.000          \u001b[0m\u001b[34m \u001b[0m│\u001b[34m \u001b[0m\u001b[32m0.000          \u001b[0m\u001b[34m \u001b[0m│\n",
      "│\u001b[36m                \u001b[0m│\u001b[36m         \u001b[0m│         │         │         │\u001b[34m \u001b[0m\u001b[32m(19437.1x)     \u001b[0m\u001b[34m \u001b[0m│\u001b[34m \u001b[0m\u001b[32m(10596.8x)     \u001b[0m\u001b[34m \u001b[0m│\u001b[34m \u001b[0m\u001b[32m(13535.6x)     \u001b[0m\u001b[34m \u001b[0m│\n",
      "│\u001b[36m \u001b[0m\u001b[36m  desx-decrypt\u001b[0m\u001b[36m \u001b[0m│\u001b[36m \u001b[0m\u001b[36m(4096,)\u001b[0m\u001b[36m \u001b[0m│ 0.128   │ 0.130   │ 0.129   │\u001b[34m \u001b[0m\u001b[32m0.000          \u001b[0m\u001b[34m \u001b[0m│\u001b[34m \u001b[0m\u001b[32m0.000 (9517.1x)\u001b[0m\u001b[34m \u001b[0m│\u001b[34m \u001b[0m\u001b[32m0.000          \u001b[0m\u001b[34m \u001b[0m│\n",
      "│\u001b[36m                \u001b[0m│\u001b[36m         \u001b[0m│         │         │         │\u001b[34m \u001b[0m\u001b[32m(20016.9x)     \u001b[0m\u001b[34m \u001b[0m│\u001b[34m                 \u001b[0m│\u001b[34m \u001b[0m\u001b[32m(12866.1x)     \u001b[0m\u001b[34m \u001b[0m│\n",
      "│\u001b[36m \u001b[0m\u001b[36m desxl-encrypt\u001b[0m\u001b[36m \u001b[0m│\u001b[36m \u001b[0m\u001b[36m(4096,)\u001b[0m\u001b[36m \u001b[0m│ 0.125   │ 0.128   │ 0.127   │\u001b[34m \u001b[0m\u001b[32m0.000          \u001b[0m\u001b[34m \u001b[0m│\u001b[34m \u001b[0m\u001b[32m0.000 (9849.8x)\u001b[0m\u001b[34m \u001b[0m│\u001b[34m \u001b[0m\u001b[32m0.000          \u001b[0m\u001b[34m \u001b[0m│\n",
      "│\u001b[36m                \u001b[0m│\u001b[36m         \u001b[0m│         │         │         │\u001b[34m \u001b[0m\u001b[32m(20074.7x)     \u001b[0m\u001b[34m \u001b[0m│\u001b[34m                 \u001b[0m│\u001b[34m \u001b[0m\u001b[32m(13154.7x)     \u001b[0m\u001b[34m \u001b[0m│\n",
      "│\u001b[36m \u001b[0m\u001b[36m desxl-decrypt\u001b[0m\u001b[36m \u001b[0m│\u001b[36m \u001b[0m\u001b[36m(4096,)\u001b[0m\u001b[36m \u001b[0m│ 0.130   │ 0.130   │ 0.130   │\u001b[34m \u001b[0m\u001b[32m0.000          \u001b[0m\u001b[34m \u001b[0m│\u001b[34m \u001b[0m\u001b[32m0.000 (8887.7x)\u001b[0m\u001b[34m \u001b[0m│\u001b[34m \u001b[0m\u001b[32m0.000          \u001b[0m\u001b[34m \u001b[0m│\n",
      "│\u001b[36m                \u001b[0m│\u001b[36m         \u001b[0m│         │         │         │\u001b[34m \u001b[0m\u001b[32m(19489.2x)     \u001b[0m\u001b[34m \u001b[0m│\u001b[34m                 \u001b[0m│\u001b[34m \u001b[0m\u001b[32m(12198.1x)     \u001b[0m\u001b[34m \u001b[0m│\n",
      "│\u001b[36m \u001b[0m\u001b[36m  tdes-encrypt\u001b[0m\u001b[36m \u001b[0m│\u001b[36m \u001b[0m\u001b[36m(4096,)\u001b[0m\u001b[36m \u001b[0m│ 0.171   │ 0.173   │ 0.172   │\u001b[34m \u001b[0m\u001b[32m0.000          \u001b[0m\u001b[34m \u001b[0m│\u001b[34m \u001b[0m\u001b[32m0.000          \u001b[0m\u001b[34m \u001b[0m│\u001b[34m \u001b[0m\u001b[32m0.000          \u001b[0m\u001b[34m \u001b[0m│\n",
      "│\u001b[36m                \u001b[0m│\u001b[36m         \u001b[0m│         │         │         │\u001b[34m \u001b[0m\u001b[32m(25964.4x)     \u001b[0m\u001b[34m \u001b[0m│\u001b[34m \u001b[0m\u001b[32m(12315.2x)     \u001b[0m\u001b[34m \u001b[0m│\u001b[34m \u001b[0m\u001b[32m(16665.8x)     \u001b[0m\u001b[34m \u001b[0m│\n",
      "│\u001b[36m \u001b[0m\u001b[36m  tdes-decrypt\u001b[0m\u001b[36m \u001b[0m│\u001b[36m \u001b[0m\u001b[36m(4096,)\u001b[0m\u001b[36m \u001b[0m│ 0.168   │ 0.168   │ 0.168   │\u001b[34m \u001b[0m\u001b[32m0.000          \u001b[0m\u001b[34m \u001b[0m│\u001b[34m \u001b[0m\u001b[32m0.000          \u001b[0m\u001b[34m \u001b[0m│\u001b[34m \u001b[0m\u001b[32m0.000          \u001b[0m\u001b[34m \u001b[0m│\n",
      "│\u001b[36m                \u001b[0m│\u001b[36m         \u001b[0m│         │         │         │\u001b[34m \u001b[0m\u001b[32m(25269.5x)     \u001b[0m\u001b[34m \u001b[0m│\u001b[34m \u001b[0m\u001b[32m(12395.4x)     \u001b[0m\u001b[34m \u001b[0m│\u001b[34m \u001b[0m\u001b[32m(16631.6x)     \u001b[0m\u001b[34m \u001b[0m│\n",
      "│\u001b[36m \u001b[0m\u001b[36m pydes-encrypt\u001b[0m\u001b[36m \u001b[0m│\u001b[36m \u001b[0m\u001b[36m(4096,)\u001b[0m\u001b[36m \u001b[0m│ 23.310  │ 23.338  │ 23.324  │\u001b[34m \u001b[0m\u001b[32m0.000          \u001b[0m\u001b[34m \u001b[0m│\u001b[34m \u001b[0m\u001b[32m0.000          \u001b[0m\u001b[34m \u001b[0m│\u001b[34m \u001b[0m\u001b[32m0.000          \u001b[0m\u001b[34m \u001b[0m│\n",
      "│\u001b[36m                \u001b[0m│\u001b[36m         \u001b[0m│         │         │         │\u001b[34m \u001b[0m\u001b[32m(3449684.7x)   \u001b[0m\u001b[34m \u001b[0m│\u001b[34m \u001b[0m\u001b[32m(1699008.7x)   \u001b[0m\u001b[34m \u001b[0m│\u001b[34m \u001b[0m\u001b[32m(2276245.7x)   \u001b[0m\u001b[34m \u001b[0m│\n",
      "│\u001b[36m \u001b[0m\u001b[36m pydes-decrypt\u001b[0m\u001b[36m \u001b[0m│\u001b[36m \u001b[0m\u001b[36m(4096,)\u001b[0m\u001b[36m \u001b[0m│ 23.295  │ 23.298  │ 23.297  │\u001b[34m \u001b[0m\u001b[32m0.000          \u001b[0m\u001b[34m \u001b[0m│\u001b[34m \u001b[0m\u001b[32m0.000          \u001b[0m\u001b[34m \u001b[0m│\u001b[34m \u001b[0m\u001b[32m0.000          \u001b[0m\u001b[34m \u001b[0m│\n",
      "│\u001b[36m                \u001b[0m│\u001b[36m         \u001b[0m│         │         │         │\u001b[34m \u001b[0m\u001b[32m(3639917.0x)   \u001b[0m\u001b[34m \u001b[0m│\u001b[34m \u001b[0m\u001b[32m(1685598.3x)   \u001b[0m\u001b[34m \u001b[0m│\u001b[34m \u001b[0m\u001b[32m(2304114.8x)   \u001b[0m\u001b[34m \u001b[0m│\n",
      "│\u001b[36m \u001b[0m\u001b[36mpytdes-encrypt\u001b[0m\u001b[36m \u001b[0m│\u001b[36m \u001b[0m\u001b[36m(4096,)\u001b[0m\u001b[36m \u001b[0m│ 23.282  │ 23.295  │ 23.289  │\u001b[34m \u001b[0m\u001b[32m0.000          \u001b[0m\u001b[34m \u001b[0m│\u001b[34m \u001b[0m\u001b[32m0.000          \u001b[0m\u001b[34m \u001b[0m│\u001b[34m \u001b[0m\u001b[32m0.000          \u001b[0m\u001b[34m \u001b[0m│\n",
      "│\u001b[36m                \u001b[0m│\u001b[36m         \u001b[0m│         │         │         │\u001b[34m \u001b[0m\u001b[32m(3610196.5x)   \u001b[0m\u001b[34m \u001b[0m│\u001b[34m \u001b[0m\u001b[32m(1686095.1x)   \u001b[0m\u001b[34m \u001b[0m│\u001b[34m \u001b[0m\u001b[32m(2298408.4x)   \u001b[0m\u001b[34m \u001b[0m│\n",
      "│\u001b[36m \u001b[0m\u001b[36mpytdes-decrypt\u001b[0m\u001b[36m \u001b[0m│\u001b[36m \u001b[0m\u001b[36m(4096,)\u001b[0m\u001b[36m \u001b[0m│ 23.284  │ 23.296  │ 23.290  │\u001b[34m \u001b[0m\u001b[32m0.000          \u001b[0m\u001b[34m \u001b[0m│\u001b[34m \u001b[0m\u001b[32m0.000          \u001b[0m\u001b[34m \u001b[0m│\u001b[34m \u001b[0m\u001b[32m0.000          \u001b[0m\u001b[34m \u001b[0m│\n",
      "│\u001b[36m                \u001b[0m│\u001b[36m         \u001b[0m│         │         │         │\u001b[34m \u001b[0m\u001b[32m(3825845.5x)   \u001b[0m\u001b[34m \u001b[0m│\u001b[34m \u001b[0m\u001b[32m(1674255.7x)   \u001b[0m\u001b[34m \u001b[0m│\u001b[34m \u001b[0m\u001b[32m(2328984.5x)   \u001b[0m\u001b[34m \u001b[0m│\n",
      "└────────────────┴─────────┴─────────┴─────────┴─────────┴─────────────────┴─────────────────┴─────────────────┘\n",
      "\n",
      "Results exported to tmp.csv\n",
      "Completed in 216.51 seconds.\n"
     ]
    }
   ],
   "source": [
    "! python richbench2.py ./benchmarks --times 1 --repeat 2 --csv tmp.csv"
   ]
  }
 ],
 "metadata": {
  "kernelspec": {
   "display_name": "Python 3 (ipykernel)",
   "language": "python",
   "name": "python3"
  },
  "language_info": {
   "codemirror_mode": {
    "name": "ipython",
    "version": 3
   },
   "file_extension": ".py",
   "mimetype": "text/x-python",
   "name": "python",
   "nbconvert_exporter": "python",
   "pygments_lexer": "ipython3",
   "version": "3.10.4"
  }
 },
 "nbformat": 4,
 "nbformat_minor": 5
}
