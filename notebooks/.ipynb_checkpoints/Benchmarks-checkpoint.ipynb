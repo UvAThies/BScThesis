{
 "cells": [
  {
   "cell_type": "code",
   "execution_count": 8,
   "id": "07c2fa6b",
   "metadata": {},
   "outputs": [
    {
     "name": "stdout",
     "output_type": "stream",
     "text": [
      "Collecting pyperf\n",
      "  Downloading pyperf-2.9.0-py3-none-any.whl (144 kB)\n",
      "\u001b[2K     \u001b[90m━━━━━━━━━━━━━━━━━━━━━━━━━━━━━━━━━━━━━\u001b[0m \u001b[32m144.2/144.2 KB\u001b[0m \u001b[31m589.3 kB/s\u001b[0m eta \u001b[36m0:00:00\u001b[0m00:01\u001b[0m00:01\u001b[0m\n",
      "\u001b[?25hRequirement already satisfied: psutil>=5.9.0 in /usr/lib/python3/dist-packages (from pyperf) (5.9.0)\n",
      "Installing collected packages: pyperf\n",
      "Successfully installed pyperf-2.9.0\n"
     ]
    }
   ],
   "source": [
    "! pip install richbench"
   ]
  },
  {
   "cell_type": "code",
   "execution_count": 18,
   "id": "94b95dcd",
   "metadata": {},
   "outputs": [],
   "source": [
    "! python benchmarks/bench_des_encrypt.py"
   ]
  },
  {
   "cell_type": "code",
   "execution_count": null,
   "id": "948f1187",
   "metadata": {
    "scrolled": false
   },
   "outputs": [
    {
     "name": "stdout",
     "output_type": "stream",
     "text": [
      "Using 16x type with input: 256 bits, and output: 64 bits\r\n"
     ]
    }
   ],
   "source": [
    "! python richbench2.py ./benchmarks --times 3 --repeat 5 --csv tmp.csv"
   ]
  }
 ],
 "metadata": {
  "kernelspec": {
   "display_name": "Python 3 (ipykernel)",
   "language": "python",
   "name": "python3"
  },
  "language_info": {
   "codemirror_mode": {
    "name": "ipython",
    "version": 3
   },
   "file_extension": ".py",
   "mimetype": "text/x-python",
   "name": "python",
   "nbconvert_exporter": "python",
   "pygments_lexer": "ipython3",
   "version": "3.10.4"
  }
 },
 "nbformat": 4,
 "nbformat_minor": 5
}
