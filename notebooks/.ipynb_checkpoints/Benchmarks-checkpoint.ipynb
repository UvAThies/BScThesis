{
 "cells": [
  {
   "cell_type": "code",
   "execution_count": 1,
   "id": "07c2fa6b",
   "metadata": {},
   "outputs": [
    {
     "name": "stdout",
     "output_type": "stream",
     "text": [
      "Collecting richbench\n",
      "  Downloading richbench-1.0.3-py3-none-any.whl (5.2 kB)\n",
      "Collecting pyinstrument\n",
      "  Downloading pyinstrument-5.0.1.tar.gz (263 kB)\n",
      "\u001b[2K     \u001b[90m━━━━━━━━━━━━━━━━━━━━━━━━━━━━━━━━━━━━━━━\u001b[0m \u001b[32m263.2/263.2 KB\u001b[0m \u001b[31m1.0 MB/s\u001b[0m eta \u001b[36m0:00:00\u001b[0ma \u001b[36m0:00:01\u001b[0m\n",
      "\u001b[?25h  Installing build dependencies ... \u001b[?25ldone\n",
      "\u001b[?25h  Getting requirements to build wheel ... \u001b[?25ldone\n",
      "\u001b[?25h  Preparing metadata (pyproject.toml) ... \u001b[?25ldone\n",
      "\u001b[?25hCollecting rich\n",
      "  Downloading rich-14.0.0-py3-none-any.whl (243 kB)\n",
      "\u001b[2K     \u001b[90m━━━━━━━━━━━━━━━━━━━━━━━━━━━━━━━━━━━━━━━\u001b[0m \u001b[32m243.2/243.2 KB\u001b[0m \u001b[31m2.8 MB/s\u001b[0m eta \u001b[36m0:00:00\u001b[0ma \u001b[36m0:00:01\u001b[0m\n",
      "\u001b[?25hCollecting pygments<3.0.0,>=2.13.0\n",
      "  Downloading pygments-2.19.1-py3-none-any.whl (1.2 MB)\n",
      "\u001b[2K     \u001b[90m━━━━━━━━━━━━━━━━━━━━━━━━━━━━━━━━━━━━━━━━\u001b[0m \u001b[32m1.2/1.2 MB\u001b[0m \u001b[31m2.3 MB/s\u001b[0m eta \u001b[36m0:00:00\u001b[0m00:01\u001b[0m00:01\u001b[0m\n",
      "\u001b[?25hRequirement already satisfied: typing-extensions<5.0,>=4.0.0 in /usr/local/share/pynq-venv/lib/python3.10/site-packages (from rich->richbench) (4.3.0)\n",
      "Collecting markdown-it-py>=2.2.0\n",
      "  Downloading markdown_it_py-3.0.0-py3-none-any.whl (87 kB)\n",
      "\u001b[2K     \u001b[90m━━━━━━━━━━━━━━━━━━━━━━━━━━━━━━━━━━━━━━━━\u001b[0m \u001b[32m87.5/87.5 KB\u001b[0m \u001b[31m1.9 MB/s\u001b[0m eta \u001b[36m0:00:00\u001b[0m\n",
      "\u001b[?25hCollecting mdurl~=0.1\n",
      "  Downloading mdurl-0.1.2-py3-none-any.whl (10.0 kB)\n",
      "Building wheels for collected packages: pyinstrument\n",
      "  Building wheel for pyinstrument (pyproject.toml) ... \u001b[?25ldone\n",
      "\u001b[?25h  Created wheel for pyinstrument: filename=pyinstrument-5.0.1-cp310-cp310-linux_armv7l.whl size=142223 sha256=ccb6e001cfb467f8592107bdc001375b440ca8293106a32c41dd21f1aeee46c2\n",
      "  Stored in directory: /root/.cache/pip/wheels/66/a9/4b/c50b7d56f72f46015612804a2574bc6843ac74a6965f83638e\n",
      "Successfully built pyinstrument\n",
      "Installing collected packages: pyinstrument, pygments, mdurl, markdown-it-py, rich, richbench\n",
      "  Attempting uninstall: pygments\n",
      "    Found existing installation: Pygments 2.11.2\n",
      "    Not uninstalling pygments at /usr/lib/python3/dist-packages, outside environment /usr/local/share/pynq-venv\n",
      "    Can't uninstall 'Pygments'. No files were found to uninstall.\n",
      "Successfully installed markdown-it-py-3.0.0 mdurl-0.1.2 pygments-2.19.1 pyinstrument-5.0.1 rich-14.0.0 richbench-1.0.3\n"
     ]
    }
   ],
   "source": [
    "! pip install richbench"
   ]
  },
  {
   "cell_type": "code",
   "execution_count": 6,
   "id": "ca0de123",
   "metadata": {},
   "outputs": [
    {
     "name": "stdout",
     "output_type": "stream",
     "text": [
      "\u001b[3m                                           Benchmarks, repeat=5, number=5                                           \u001b[0m\r\n",
      "┏━━━━━━━━━━━━━━━━━━━━━━━━━━━━━━┳━━━━━━━━━┳━━━━━━━━━┳━━━━━━━━━┳━━━━━━━━━━━━━━━━━┳━━━━━━━━━━━━━━━━━┳━━━━━━━━━━━━━━━━━┓\r\n",
      "┃\u001b[1m \u001b[0m\u001b[1m                   Benchmark\u001b[0m\u001b[1m \u001b[0m┃\u001b[1m \u001b[0m\u001b[1mMin    \u001b[0m\u001b[1m \u001b[0m┃\u001b[1m \u001b[0m\u001b[1mMax    \u001b[0m\u001b[1m \u001b[0m┃\u001b[1m \u001b[0m\u001b[1mMean   \u001b[0m\u001b[1m \u001b[0m┃\u001b[1m \u001b[0m\u001b[1mMin (+)        \u001b[0m\u001b[1m \u001b[0m┃\u001b[1m \u001b[0m\u001b[1mMax (+)        \u001b[0m\u001b[1m \u001b[0m┃\u001b[1m \u001b[0m\u001b[1mMean (+)       \u001b[0m\u001b[1m \u001b[0m┃\r\n",
      "┡━━━━━━━━━━━━━━━━━━━━━━━━━━━━━━╇━━━━━━━━━╇━━━━━━━━━╇━━━━━━━━━╇━━━━━━━━━━━━━━━━━╇━━━━━━━━━━━━━━━━━╇━━━━━━━━━━━━━━━━━┩\r\n",
      "│\u001b[36m \u001b[0m\u001b[36mSorting 3 items instead of 7\u001b[0m\u001b[36m \u001b[0m│ 0.245   │ 0.246   │ 0.246   │\u001b[34m \u001b[0m\u001b[92m0.193 (1.3x)   \u001b[0m\u001b[34m \u001b[0m│\u001b[34m \u001b[0m\u001b[92m0.193 (1.3x)   \u001b[0m\u001b[34m \u001b[0m│\u001b[34m \u001b[0m\u001b[92m0.193 (1.3x)   \u001b[0m\u001b[34m \u001b[0m│\r\n",
      "└──────────────────────────────┴─────────┴─────────┴─────────┴─────────────────┴─────────────────┴─────────────────┘\r\n"
     ]
    }
   ],
   "source": [
    "! richbench ./benchmarks"
   ]
  }
 ],
 "metadata": {
  "kernelspec": {
   "display_name": "Python 3 (ipykernel)",
   "language": "python",
   "name": "python3"
  },
  "language_info": {
   "codemirror_mode": {
    "name": "ipython",
    "version": 3
   },
   "file_extension": ".py",
   "mimetype": "text/x-python",
   "name": "python",
   "nbconvert_exporter": "python",
   "pygments_lexer": "ipython3",
   "version": "3.10.4"
  }
 },
 "nbformat": 4,
 "nbformat_minor": 5
}
