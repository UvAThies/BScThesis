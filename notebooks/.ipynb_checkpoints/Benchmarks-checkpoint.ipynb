{
 "cells": [
  {
   "cell_type": "code",
   "execution_count": null,
   "id": "948f1187",
   "metadata": {
    "scrolled": true
   },
   "outputs": [
    {
     "name": "stdout",
     "output_type": "stream",
     "text": [
      "starting des-encrypt (16,)\n",
      "Using 16x type with input: 128 bits, and output: 64 bits\n",
      "starting des-encrypt (4096,)\n",
      "Using 4096x type with input: 128 bits, and output: 64 bits\n",
      "starting des-decrypt (16,)\n",
      "Using 16x type with input: 128 bits, and output: 64 bits\n",
      "starting des-decrypt (4096,)\n",
      "Using 4096x type with input: 128 bits, and output: 64 bits\n",
      "starting desl-encrypt (16,)\n",
      "Using 16x type with input: 128 bits, and output: 64 bits\n",
      "starting desl-encrypt (4096,)\n",
      "Using 4096x type with input: 128 bits, and output: 64 bits\n",
      "starting desl-decrypt (16,)\n",
      "Using 16x type with input: 128 bits, and output: 64 bits\n",
      "starting desl-decrypt (4096,)\n",
      "Using 4096x type with input: 128 bits, and output: 64 bits\n",
      "starting desx-encrypt (16,)\n",
      "Using 16x type with input: 128 bits, and output: 64 bits\n",
      "starting desx-encrypt (4096,)\n",
      "Using 4096x type with input: 128 bits, and output: 64 bits\n",
      "starting desx-decrypt (16,)\n",
      "Using 16x type with input: 128 bits, and output: 64 bits\n",
      "starting desx-decrypt (4096,)\n",
      "Using 4096x type with input: 128 bits, and output: 64 bits\n",
      "starting desxl-encrypt (16,)\n",
      "Using 16x type with input: 128 bits, and output: 64 bits\n",
      "starting desxl-encrypt (4096,)\n",
      "Using 4096x type with input: 128 bits, and output: 64 bits\n",
      "starting desxl-decrypt (16,)\n",
      "Using 16x type with input: 128 bits, and output: 64 bits\n",
      "starting desxl-decrypt (4096,)\n",
      "Using 4096x type with input: 128 bits, and output: 64 bits\n"
     ]
    }
   ],
   "source": [
    "! python richbench2.py ./benchmarks --times 10 --repeat 2 --csv sdes10_2.csv"
   ]
  }
 ],
 "metadata": {
  "kernelspec": {
   "display_name": "Python 3 (ipykernel)",
   "language": "python",
   "name": "python3"
  },
  "language_info": {
   "codemirror_mode": {
    "name": "ipython",
    "version": 3
   },
   "file_extension": ".py",
   "mimetype": "text/x-python",
   "name": "python",
   "nbconvert_exporter": "python",
   "pygments_lexer": "ipython3",
   "version": "3.10.4"
  }
 },
 "nbformat": 4,
 "nbformat_minor": 5
}
