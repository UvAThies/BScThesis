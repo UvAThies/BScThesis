{
 "cells": [
  {
   "cell_type": "code",
   "execution_count": 1,
   "id": "f5258062",
   "metadata": {},
   "outputs": [],
   "source": [
    "import sys \n",
    "import os\n",
    "# This is needed for imports to local python modules to work!\n",
    "sys.path.append(os.path.abspath(\"/home/xilinx/jupyter_notebooks/thies/notebooks\"))\n",
    "\n",
    "from fpga_implementation import DESEncryptor, BaseFPGAEncryptor, TDESEncryptor, SDESEncryptor\n",
    "from pydes_implementation import PyDES, PyTDES"
   ]
  },
  {
   "cell_type": "code",
   "execution_count": 2,
   "id": "b018a48f",
   "metadata": {},
   "outputs": [],
   "source": [
    "def generic_test(f1, f2, test_vector_length=1):\n",
    "    test_vectors = [\n",
    "        {\"message\": \"ABCDEFGH\", \"key\": \"12345678\" * test_vector_length },\n",
    "        {\"message\": \"ABCDEFGHabcdefgh\", \"key\": \"12345678\"* test_vector_length},\n",
    "        {\"message\": \"ABCDEFG\", \"key\": \"12345678\"* test_vector_length},\n",
    "        {\"message\": \"\", \"key\": \"12345678\"* test_vector_length},\n",
    "        {\"message\": \"ABCDEFGHIJKLMNOPQRSTUVWXYZ123456\", \"key\": \"12345678\"* test_vector_length},\n",
    "    ]\n",
    "\n",
    "    for test_vector in test_vectors:\n",
    "        message = test_vector[\"message\"]\n",
    "        key = test_vector[\"key\"]\n",
    "        print(f\"Message: {message}, Key: {key}\")\n",
    "        \n",
    "        f1_results = f1(message, key)\n",
    "        f2_results = f2(message, key)\n",
    "\n",
    "        assert f1_results == f2_results, f\"Results do not match for message: {message}, key: {key}. f1: {f1_results}, f2: {f2_results}\"\n",
    "        \n",
    "    print(\"done\")"
   ]
  },
  {
   "cell_type": "code",
   "execution_count": 7,
   "id": "d1c77078",
   "metadata": {},
   "outputs": [
    {
     "name": "stdout",
     "output_type": "stream",
     "text": [
      "Using 16x type with input: 128 bits, and output: 64 bits\n",
      "Message: ABCDEFGH, Key: 12345678\n",
      "Message: ABCDEFGHabcdefgh, Key: 12345678\n",
      "Message: ABCDEFG, Key: 12345678\n",
      "Message: , Key: 12345678\n",
      "Message: ABCDEFGHIJKLMNOPQRSTUVWXYZ123456, Key: 12345678\n",
      "done\n",
      "Using 16x type with input: 256 bits, and output: 64 bits\n",
      "Message: ABCDEFGH, Key: 123456781234567812345678\n",
      "Message: ABCDEFGHabcdefgh, Key: 123456781234567812345678\n",
      "Message: ABCDEFG, Key: 123456781234567812345678\n",
      "Message: , Key: 123456781234567812345678\n",
      "Message: ABCDEFGHIJKLMNOPQRSTUVWXYZ123456, Key: 123456781234567812345678\n",
      "done\n"
     ]
    }
   ],
   "source": [
    "# Test Cases\n",
    "def test_compare_des_encrypt():\n",
    "    \"\"\"\n",
    "    Test to compare the output of the PYNQ DES implementation with the pyDes library.\n",
    "    \"\"\"\n",
    "    fpga_encryptor = DESEncryptor(logging=False) \n",
    "    pyDes_encryptor = PyDES()\n",
    "    \n",
    "    generic_test(lambda m, k:fpga_encryptor.encrypt(m,k), lambda m, k:  pyDes_encryptor.encrypt(m, k).hex())\n",
    "\n",
    "    del fpga_encryptor\n",
    "\n",
    "def test_compare_tdes_encrypt():\n",
    "    \"\"\"\n",
    "    Test to compare the output of the PYNQ DES implementation with the pyDes library.\n",
    "    \"\"\"\n",
    "    fpga_encryptor = TDESEncryptor(logging=False) \n",
    "    pyDes_encryptor = PyTDES()\n",
    "    \n",
    "    generic_test(lambda m, k:fpga_encryptor.encrypt(m,k), lambda m, k:  pyDes_encryptor.encrypt(m, k).hex(), 3)\n",
    "\n",
    "    del fpga_encryptor\n",
    "    \n",
    "test_compare_des_encrypt()\n",
    "test_compare_tdes_encrypt()"
   ]
  },
  {
   "cell_type": "code",
   "execution_count": 6,
   "id": "f088bd61",
   "metadata": {},
   "outputs": [
    {
     "name": "stdout",
     "output_type": "stream",
     "text": [
      "Using 16x type with input: 128 bits, and output: 64 bits\n",
      "Message: ABCDEFGH, Key: 12345678\n",
      "Now sending part(0, 0): b'ABCDEFGH', 4142434445464748, with key: b'12345678', 3132333435363738\n",
      "Message: ABCDEFGHabcdefgh, Key: 12345678\n",
      "Now sending part(0, 0): b'ABCDEFGH', 4142434445464748, with key: b'12345678', 3132333435363738\n",
      "Now sending part(1, 8): b'abcdefgh', 6162636465666768, with key: b'12345678', 3132333435363738\n",
      "Message: ABCDEFG, Key: 12345678\n",
      "Now sending part(0, 0): b'ABCDEFG\\x00', 4142434445464700, with key: b'12345678', 3132333435363738\n",
      "Message: , Key: 12345678\n",
      "Message: ABCDEFGHIJKLMNOPQRSTUVWXYZ123456, Key: 12345678\n",
      "Now sending part(0, 0): b'ABCDEFGH', 4142434445464748, with key: b'12345678', 3132333435363738\n",
      "Now sending part(1, 8): b'IJKLMNOP', 494a4b4c4d4e4f50, with key: b'12345678', 3132333435363738\n",
      "Now sending part(2, 16): b'QRSTUVWX', 5152535455565758, with key: b'12345678', 3132333435363738\n",
      "Now sending part(3, 24): b'YZ123456', 595a313233343536, with key: b'12345678', 3132333435363738\n",
      "done\n",
      "Using 16x type with input: 256 bits, and output: 64 bits\n",
      "Message: ABCDEFGH, Key: 123456781234567812345678\n",
      "Now sending part(0, 0): b'ABCDEFGH', 4142434445464748, with key: b'123456781234567812345678', 313233343536373831323334353637383132333435363738\n"
     ]
    },
    {
     "ename": "AssertionError",
     "evalue": "Results do not match for message: ABCDEFGH, key: 123456781234567812345678. f1: 3cf927a122aca38c, f2: 05288ad59e6bc15f",
     "output_type": "error",
     "traceback": [
      "\u001b[0;31m---------------------------------------------------------------------------\u001b[0m",
      "\u001b[0;31mAssertionError\u001b[0m                            Traceback (most recent call last)",
      "Input \u001b[0;32mIn [6]\u001b[0m, in \u001b[0;36m<cell line: 23>\u001b[0;34m()\u001b[0m\n\u001b[1;32m     20\u001b[0m     \u001b[38;5;28;01mdel\u001b[39;00m fpga_encryptor\n\u001b[1;32m     22\u001b[0m test_compare_des_decrypt()\n\u001b[0;32m---> 23\u001b[0m \u001b[43mtest_compare_tdes_decrypt\u001b[49m\u001b[43m(\u001b[49m\u001b[43m)\u001b[49m\n",
      "Input \u001b[0;32mIn [6]\u001b[0m, in \u001b[0;36mtest_compare_tdes_decrypt\u001b[0;34m()\u001b[0m\n\u001b[1;32m     16\u001b[0m fpga_encryptor \u001b[38;5;241m=\u001b[39m TDESEncryptor() \n\u001b[1;32m     17\u001b[0m pyDes_encryptor \u001b[38;5;241m=\u001b[39m PyTDES()\n\u001b[0;32m---> 19\u001b[0m \u001b[43mgeneric_test\u001b[49m\u001b[43m(\u001b[49m\u001b[38;5;28;43;01mlambda\u001b[39;49;00m\u001b[43m \u001b[49m\u001b[43mm\u001b[49m\u001b[43m,\u001b[49m\u001b[43m \u001b[49m\u001b[43mk\u001b[49m\u001b[43m:\u001b[49m\u001b[43mfpga_encryptor\u001b[49m\u001b[38;5;241;43m.\u001b[39;49m\u001b[43mdecrypt\u001b[49m\u001b[43m(\u001b[49m\u001b[43mm\u001b[49m\u001b[43m,\u001b[49m\u001b[43mk\u001b[49m\u001b[43m)\u001b[49m\u001b[43m,\u001b[49m\u001b[43m \u001b[49m\u001b[38;5;28;43;01mlambda\u001b[39;49;00m\u001b[43m \u001b[49m\u001b[43mm\u001b[49m\u001b[43m,\u001b[49m\u001b[43m \u001b[49m\u001b[43mk\u001b[49m\u001b[43m:\u001b[49m\u001b[43m  \u001b[49m\u001b[43mpyDes_encryptor\u001b[49m\u001b[38;5;241;43m.\u001b[39;49m\u001b[43mdecrypt\u001b[49m\u001b[43m(\u001b[49m\u001b[43mm\u001b[49m\u001b[43m,\u001b[49m\u001b[43m \u001b[49m\u001b[43mk\u001b[49m\u001b[43m)\u001b[49m\u001b[38;5;241;43m.\u001b[39;49m\u001b[43mhex\u001b[49m\u001b[43m(\u001b[49m\u001b[43m)\u001b[49m\u001b[43m,\u001b[49m\u001b[43m \u001b[49m\u001b[38;5;241;43m3\u001b[39;49m\u001b[43m)\u001b[49m\n\u001b[1;32m     20\u001b[0m \u001b[38;5;28;01mdel\u001b[39;00m fpga_encryptor\n",
      "Input \u001b[0;32mIn [2]\u001b[0m, in \u001b[0;36mgeneric_test\u001b[0;34m(f1, f2, test_vector_length)\u001b[0m\n\u001b[1;32m     15\u001b[0m     f1_results \u001b[38;5;241m=\u001b[39m f1(message, key)\n\u001b[1;32m     16\u001b[0m     f2_results \u001b[38;5;241m=\u001b[39m f2(message, key)\n\u001b[0;32m---> 18\u001b[0m     \u001b[38;5;28;01massert\u001b[39;00m f1_results \u001b[38;5;241m==\u001b[39m f2_results, \u001b[38;5;124mf\u001b[39m\u001b[38;5;124m\"\u001b[39m\u001b[38;5;124mResults do not match for message: \u001b[39m\u001b[38;5;132;01m{\u001b[39;00mmessage\u001b[38;5;132;01m}\u001b[39;00m\u001b[38;5;124m, key: \u001b[39m\u001b[38;5;132;01m{\u001b[39;00mkey\u001b[38;5;132;01m}\u001b[39;00m\u001b[38;5;124m. f1: \u001b[39m\u001b[38;5;132;01m{\u001b[39;00mf1_results\u001b[38;5;132;01m}\u001b[39;00m\u001b[38;5;124m, f2: \u001b[39m\u001b[38;5;132;01m{\u001b[39;00mf2_results\u001b[38;5;132;01m}\u001b[39;00m\u001b[38;5;124m\"\u001b[39m\n\u001b[1;32m     20\u001b[0m \u001b[38;5;28mprint\u001b[39m(\u001b[38;5;124m\"\u001b[39m\u001b[38;5;124mdone\u001b[39m\u001b[38;5;124m\"\u001b[39m)\n",
      "\u001b[0;31mAssertionError\u001b[0m: Results do not match for message: ABCDEFGH, key: 123456781234567812345678. f1: 3cf927a122aca38c, f2: 05288ad59e6bc15f"
     ]
    }
   ],
   "source": [
    "# Test Cases\n",
    "def test_compare_des_decrypt():\n",
    "    \"\"\"\n",
    "    Test to compare the output of the PYNQ DES implementation with the pyDes library.\n",
    "    \"\"\"\n",
    "    fpga_encryptor = DESEncryptor() \n",
    "    pyDes_encryptor = PyDES()\n",
    "\n",
    "    generic_test(lambda m, k:fpga_encryptor.decrypt(m,k), lambda m, k:  pyDes_encryptor.decrypt(m, k).hex())\n",
    "    del fpga_encryptor\n",
    "\n",
    "def test_compare_tdes_decrypt():\n",
    "    \"\"\"\n",
    "    Test to compare the output of the PYNQ DES implementation with the pyDes library.\n",
    "    \"\"\"\n",
    "    fpga_encryptor = TDESEncryptor() \n",
    "    pyDes_encryptor = PyTDES()\n",
    "\n",
    "    generic_test(lambda m, k:fpga_encryptor.decrypt(m,k), lambda m, k:  pyDes_encryptor.decrypt(m, k).hex(), 3)\n",
    "    del fpga_encryptor\n",
    "    \n",
    "test_compare_des_decrypt()\n",
    "test_compare_tdes_decrypt()"
   ]
  },
  {
   "cell_type": "code",
   "execution_count": null,
   "id": "288b57d6",
   "metadata": {},
   "outputs": [],
   "source": [
    "fpga_encryptor = SDESEncryptor() "
   ]
  },
  {
   "cell_type": "code",
   "execution_count": null,
   "id": "6cbfd4ad",
   "metadata": {},
   "outputs": [],
   "source": [
    "fpga_encryptor.input_buffer\n"
   ]
  },
  {
   "cell_type": "code",
   "execution_count": null,
   "id": "32c12e1b",
   "metadata": {},
   "outputs": [],
   "source": [
    "fpga_encryptor.encrypt_bytes(bytes.fromhex(\"28\"),bytes.fromhex(\"00031E\"))\n"
   ]
  },
  {
   "cell_type": "code",
   "execution_count": null,
   "id": "5b8c5129",
   "metadata": {},
   "outputs": [],
   "source": [
    "# # Performance\n",
    "\n",
    "# def compare_des_timing():\n",
    "#     \"\"\"\n",
    "#     Compares the execution time of the PYNQ DES implementation with the pyDes library.\n",
    "#     \"\"\"\n",
    "\n",
    "#     test_vectors = [\n",
    "#         {\"message\": \"ABCDEFGH\", \"key\": \"12345678\"},\n",
    "#         {\"message\": \"ABCDEFGHabcdefgh\", \"key\": \"12345678\"},\n",
    "#         {\"message\": \"ABCDEFG\", \"key\": \"12345678\"},\n",
    "#         {\"message\": \"\", \"key\": \"12345678\"},\n",
    "#         {\"message\": \"ABCDEFGHIJKLMNOPQRSTUVWXYZ123456\", \"key\": \"12345678\"},\n",
    "#         {\"message\": \"ABCDEFGHIJKLMNOPQRSTUVWXYZ123456ABCDEFGHIJKLMNOPQRSTUVWXYZ123456\", \"key\": \"12345678\"},\n",
    "#         {\"message\": \"A\" * 128, \"key\": \"12345678\"},\n",
    "#         {\"message\": \"A\" * 128 * 4, \"key\": \"12345678\"},\n",
    "# #         {\"message\": \"A\" * 2 ** 20 * 8, \"key\": \"12345678\"},\n",
    "#     ]\n",
    "    \n",
    "    \n",
    "#     largest_size = max(map(lambda x: len(x[\"message\"]), test_vectors)) // 8\n",
    "#     print(\"Instanting DES encryptor with size: \", largest_size)\n",
    "    \n",
    "#     encryptor = DESEncryptor(logging=False, max_parallel_send=largest_size)  # Create an instance of DESEncryptor\n",
    "    \n",
    "\n",
    "#     num_iterations = 10  # Number of times to repeat the encryption for timing\n",
    "\n",
    "#     print(\"Timing Comparison:\")\n",
    "#     print(f\"Number of iterations: {num_iterations}\")\n",
    "\n",
    "#     for test_vector in test_vectors:\n",
    "#         message = test_vector[\"message\"]\n",
    "#         key = test_vector[\"key\"]\n",
    "\n",
    "#         # Time PYNQ encryption\n",
    "#         start_time_pynq = time.time()\n",
    "#         for _ in range(num_iterations):\n",
    "#             pynq_result_hex = encryptor.encrypt(message, key)\n",
    "#         end_time_pynq = time.time()\n",
    "#         pynq_time = end_time_pynq - start_time_pynq\n",
    "\n",
    "#         # Time pyDes encryption\n",
    "#         start_time_pydes = time.time()\n",
    "#         for _ in range(num_iterations):\n",
    "#             pyDes_result_bytes = encrypt_with_pyDes(message, key)\n",
    "#         end_time_pydes = time.time()\n",
    "#         pydes_time = end_time_pydes - start_time_pydes\n",
    "\n",
    "#         print(f\"\\nMessage: {message}, Key: {key}\")\n",
    "#         print(f\"PYNQ Time: {pynq_time:.6f} seconds\")\n",
    "#         print(f\"pyDes Time: {pydes_time:.6f} seconds\")\n",
    "#         print(f\"Speed up of: {pydes_time / pynq_time:.6f}\")\n",
    "\n",
    "#         # Compare the results (optional, for functional verification)\n",
    "#         pynq_result_bytes = bytes.fromhex(pynq_result_hex)\n",
    "#         pyDes_result_bytes = encrypt_with_pyDes(message, key)\n",
    "#         assert pynq_result_bytes == pyDes_result_bytes, f\"Results do not match for message: {message}, key: {key}\"\n",
    "\n",
    "# compare_des_timing()\n",
    "# print(\"Done\")"
   ]
  }
 ],
 "metadata": {
  "kernelspec": {
   "display_name": "Python 3 (ipykernel)",
   "language": "python",
   "name": "python3"
  },
  "language_info": {
   "codemirror_mode": {
    "name": "ipython",
    "version": 3
   },
   "file_extension": ".py",
   "mimetype": "text/x-python",
   "name": "python",
   "nbconvert_exporter": "python",
   "pygments_lexer": "ipython3",
   "version": "3.10.4"
  }
 },
 "nbformat": 4,
 "nbformat_minor": 5
}
