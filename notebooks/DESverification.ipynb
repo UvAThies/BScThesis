{
 "cells": [
  {
   "cell_type": "code",
   "execution_count": 2,
   "id": "f5258062",
   "metadata": {},
   "outputs": [],
   "source": [
    "import sys \n",
    "import os\n",
    "# This is needed for imports to local python modules to work!\n",
    "sys.path.append(os.path.abspath(\"/home/xilinx/jupyter_notebooks/thies/notebooks\"))\n",
    "\n",
    "from fpga_implementation import DESEncryptor, BaseFPGAEncryptor, TDESEncryptor, SDESEncryptor\n",
    "from pydes_implementation import PyDES, PyTDES"
   ]
  },
  {
   "cell_type": "code",
   "execution_count": 3,
   "id": "d0f08ed1",
   "metadata": {},
   "outputs": [
    {
     "data": {
      "application/javascript": [
       "\n",
       "try {\n",
       "require(['notebook/js/codecell'], function(codecell) {\n",
       "  codecell.CodeCell.options_default.highlight_modes[\n",
       "      'magic_text/x-csrc'] = {'reg':[/^%%microblaze/]};\n",
       "  Jupyter.notebook.events.one('kernel_ready.Kernel', function(){\n",
       "      Jupyter.notebook.get_cells().map(function(cell){\n",
       "          if (cell.cell_type == 'code'){ cell.auto_highlight(); } }) ;\n",
       "  });\n",
       "});\n",
       "} catch (e) {};\n"
      ]
     },
     "metadata": {},
     "output_type": "display_data"
    },
    {
     "data": {
      "application/javascript": [
       "\n",
       "try {\n",
       "require(['notebook/js/codecell'], function(codecell) {\n",
       "  codecell.CodeCell.options_default.highlight_modes[\n",
       "      'magic_text/x-csrc'] = {'reg':[/^%%pybind11/]};\n",
       "  Jupyter.notebook.events.one('kernel_ready.Kernel', function(){\n",
       "      Jupyter.notebook.get_cells().map(function(cell){\n",
       "          if (cell.cell_type == 'code'){ cell.auto_highlight(); } }) ;\n",
       "  });\n",
       "});\n",
       "} catch (e) {};\n"
      ]
     },
     "metadata": {},
     "output_type": "display_data"
    },
    {
     "name": "stdout",
     "output_type": "stream",
     "text": [
      "Using 256x type with input: 128 bits, and output: 64 bits\n",
      "Now sending part(0, 0): b'AAAAAAA\\x00', 4141414141414100, with key: b'BBBBBBBB', 4242424242424242\n",
      "Encrypted result: fd87106c0692ca94\n",
      "Now sending part(0, 0): b'AAAAAAAA', 4141414141414141, with key: b'BBBBBBBB', 4242424242424242\n",
      "Now sending part(1, 8): b'AAAAAAA\\x00', 4141414141414100, with key: b'BBBBBBBB', 4242424242424242\n",
      "Encrypted result (long): 57fa2ec1bb39ca18fd87106c0692ca94\n"
     ]
    }
   ],
   "source": [
    "with DESEncryptor(max_parallel_send=2 ** 8) as encryptor:\n",
    "    # Example\n",
    "    message = \"AAAAAAA\" # 7 bytes, will be padded\n",
    "    key = \"BBBBBBBB\"     # 8 bytes\n",
    "    encrypted_result = encryptor.encrypt(message, key)\n",
    "    print(f\"Encrypted result: {encrypted_result}\")\n",
    "\n",
    "    message_long = \"AAAAAAAAAAAAAAA\" # 15 bytes\n",
    "    encrypted_result_long = encryptor.encrypt(message_long, key)\n",
    "    print(f\"Encrypted result (long): {encrypted_result_long}\")\n"
   ]
  },
  {
   "cell_type": "code",
   "execution_count": null,
   "id": "b018a48f",
   "metadata": {},
   "outputs": [],
   "source": [
    "def generic_test(f1, f2, test_vector_length=1):\n",
    "    test_vectors = [\n",
    "        {\"message\": \"ABCDEFGH\", \"key\": \"12345678\" * test_vector_length },\n",
    "        {\"message\": \"ABCDEFGHabcdefgh\", \"key\": \"12345678\"* test_vector_length},\n",
    "        {\"message\": \"ABCDEFG\", \"key\": \"12345678\"* test_vector_length},\n",
    "        {\"message\": \"\", \"key\": \"12345678\"* test_vector_length},\n",
    "        {\"message\": \"ABCDEFGHIJKLMNOPQRSTUVWXYZ123456\", \"key\": \"12345678\"* test_vector_length},\n",
    "    ]\n",
    "\n",
    "    for test_vector in test_vectors:\n",
    "        message = test_vector[\"message\"]\n",
    "        key = test_vector[\"key\"]\n",
    "        print(f\"Message: {message}, Key: {key}\")\n",
    "        \n",
    "        f1_results = f1(message, key)\n",
    "        f2_results = f2(message, key)\n",
    "\n",
    "        assert f1_results == f2_results, f\"Results do not match for message: {message}, key: {key}. f1: {f1_results}, f2: {f2_results}\"\n",
    "        \n",
    "    print(\"done\")"
   ]
  },
  {
   "cell_type": "code",
   "execution_count": null,
   "id": "d1c77078",
   "metadata": {},
   "outputs": [],
   "source": [
    "# Test Cases\n",
    "def test_compare_des_encrypt():\n",
    "    \"\"\"\n",
    "    Test to compare the output of the PYNQ DES implementation with the pyDes library.\n",
    "    \"\"\"\n",
    "    fpga_encryptor = DESEncryptor(logging=False) \n",
    "    pyDes_encryptor = PyDES()\n",
    "    \n",
    "    generic_test(lambda m, k:fpga_encryptor.encrypt(m,k), lambda m, k:  pyDes_encryptor.encrypt(m, k).hex())\n",
    "\n",
    "    del fpga_encryptor\n",
    "\n",
    "def test_compare_tdes_encrypt():\n",
    "    \"\"\"\n",
    "    Test to compare the output of the PYNQ DES implementation with the pyDes library.\n",
    "    \"\"\"\n",
    "    fpga_encryptor = TDESEncryptor(logging=False) \n",
    "    pyDes_encryptor = PyTDES()\n",
    "    \n",
    "    generic_test(lambda m, k:fpga_encryptor.encrypt(m,k), lambda m, k:  pyDes_encryptor.encrypt(m, k).hex(), 3)\n",
    "\n",
    "    del fpga_encryptor\n",
    "    \n",
    "test_compare_des_encrypt()\n",
    "test_compare_tdes_encrypt()"
   ]
  },
  {
   "cell_type": "code",
   "execution_count": null,
   "id": "f088bd61",
   "metadata": {},
   "outputs": [],
   "source": [
    "# Test Cases\n",
    "def test_compare_des_decrypt():\n",
    "    \"\"\"\n",
    "    Test to compare the output of the PYNQ DES implementation with the pyDes library.\n",
    "    \"\"\"\n",
    "    fpga_encryptor = DESEncryptor() \n",
    "    pyDes_encryptor = PyDES()\n",
    "\n",
    "    generic_test(lambda m, k:fpga_encryptor.decrypt(m,k), lambda m, k:  pyDes_encryptor.decrypt(m, k).hex())\n",
    "    del fpga_encryptor\n",
    "\n",
    "def test_compare_tdes_decrypt():\n",
    "    \"\"\"\n",
    "    Test to compare the output of the PYNQ DES implementation with the pyDes library.\n",
    "    \"\"\"\n",
    "    fpga_encryptor = TDESEncryptor() \n",
    "    pyDes_encryptor = PyTDES()\n",
    "\n",
    "    generic_test(lambda m, k:fpga_encryptor.decrypt(m,k), lambda m, k:  pyDes_encryptor.decrypt(m, k).hex(), 3)\n",
    "    del fpga_encryptor\n",
    "    \n",
    "test_compare_des_decrypt()\n",
    "test_compare_tdes_decrypt()"
   ]
  },
  {
   "cell_type": "code",
   "execution_count": 4,
   "id": "288b57d6",
   "metadata": {},
   "outputs": [
    {
     "name": "stdout",
     "output_type": "stream",
     "text": [
      "Using 16x type with input: 32 bits, and output: 32 bits\n"
     ]
    }
   ],
   "source": [
    "fpga_encryptor = SDESEncryptor() "
   ]
  },
  {
   "cell_type": "code",
   "execution_count": 5,
   "id": "6cbfd4ad",
   "metadata": {},
   "outputs": [
    {
     "data": {
      "text/plain": [
       "PynqBuffer([(b'', b''), (b'', b''), (b'', b''), (b'', b''), (b'', b''),\n",
       "            (b'', b''), (b'', b''), (b'', b''), (b'', b''), (b'', b''),\n",
       "            (b'', b''), (b'', b''), (b'', b''), (b'', b''), (b'', b''),\n",
       "            (b'', b'')], dtype=[('message', 'S1'), ('key', 'S3')])"
      ]
     },
     "execution_count": 5,
     "metadata": {},
     "output_type": "execute_result"
    }
   ],
   "source": [
    "fpga_encryptor.input_buffer\n"
   ]
  },
  {
   "cell_type": "code",
   "execution_count": 7,
   "id": "32c12e1b",
   "metadata": {},
   "outputs": [
    {
     "name": "stdout",
     "output_type": "stream",
     "text": [
      "Now sending part(0, 0): b'(', 28, with key: b'\\x00\\x03\\x1e', 00031e\n"
     ]
    },
    {
     "data": {
      "text/plain": [
       "'0000008a'"
      ]
     },
     "execution_count": 7,
     "metadata": {},
     "output_type": "execute_result"
    }
   ],
   "source": [
    "fpga_encryptor.encrypt_bytes(bytes.fromhex(\"28\"),bytes.fromhex(\"00031E\"))\n"
   ]
  },
  {
   "cell_type": "code",
   "execution_count": null,
   "id": "5b8c5129",
   "metadata": {},
   "outputs": [],
   "source": [
    "# # Performance\n",
    "\n",
    "# def compare_des_timing():\n",
    "#     \"\"\"\n",
    "#     Compares the execution time of the PYNQ DES implementation with the pyDes library.\n",
    "#     \"\"\"\n",
    "\n",
    "#     test_vectors = [\n",
    "#         {\"message\": \"ABCDEFGH\", \"key\": \"12345678\"},\n",
    "#         {\"message\": \"ABCDEFGHabcdefgh\", \"key\": \"12345678\"},\n",
    "#         {\"message\": \"ABCDEFG\", \"key\": \"12345678\"},\n",
    "#         {\"message\": \"\", \"key\": \"12345678\"},\n",
    "#         {\"message\": \"ABCDEFGHIJKLMNOPQRSTUVWXYZ123456\", \"key\": \"12345678\"},\n",
    "#         {\"message\": \"ABCDEFGHIJKLMNOPQRSTUVWXYZ123456ABCDEFGHIJKLMNOPQRSTUVWXYZ123456\", \"key\": \"12345678\"},\n",
    "#         {\"message\": \"A\" * 128, \"key\": \"12345678\"},\n",
    "#         {\"message\": \"A\" * 128 * 4, \"key\": \"12345678\"},\n",
    "# #         {\"message\": \"A\" * 2 ** 20 * 8, \"key\": \"12345678\"},\n",
    "#     ]\n",
    "    \n",
    "    \n",
    "#     largest_size = max(map(lambda x: len(x[\"message\"]), test_vectors)) // 8\n",
    "#     print(\"Instanting DES encryptor with size: \", largest_size)\n",
    "    \n",
    "#     encryptor = DESEncryptor(logging=False, max_parallel_send=largest_size)  # Create an instance of DESEncryptor\n",
    "    \n",
    "\n",
    "#     num_iterations = 10  # Number of times to repeat the encryption for timing\n",
    "\n",
    "#     print(\"Timing Comparison:\")\n",
    "#     print(f\"Number of iterations: {num_iterations}\")\n",
    "\n",
    "#     for test_vector in test_vectors:\n",
    "#         message = test_vector[\"message\"]\n",
    "#         key = test_vector[\"key\"]\n",
    "\n",
    "#         # Time PYNQ encryption\n",
    "#         start_time_pynq = time.time()\n",
    "#         for _ in range(num_iterations):\n",
    "#             pynq_result_hex = encryptor.encrypt(message, key)\n",
    "#         end_time_pynq = time.time()\n",
    "#         pynq_time = end_time_pynq - start_time_pynq\n",
    "\n",
    "#         # Time pyDes encryption\n",
    "#         start_time_pydes = time.time()\n",
    "#         for _ in range(num_iterations):\n",
    "#             pyDes_result_bytes = encrypt_with_pyDes(message, key)\n",
    "#         end_time_pydes = time.time()\n",
    "#         pydes_time = end_time_pydes - start_time_pydes\n",
    "\n",
    "#         print(f\"\\nMessage: {message}, Key: {key}\")\n",
    "#         print(f\"PYNQ Time: {pynq_time:.6f} seconds\")\n",
    "#         print(f\"pyDes Time: {pydes_time:.6f} seconds\")\n",
    "#         print(f\"Speed up of: {pydes_time / pynq_time:.6f}\")\n",
    "\n",
    "#         # Compare the results (optional, for functional verification)\n",
    "#         pynq_result_bytes = bytes.fromhex(pynq_result_hex)\n",
    "#         pyDes_result_bytes = encrypt_with_pyDes(message, key)\n",
    "#         assert pynq_result_bytes == pyDes_result_bytes, f\"Results do not match for message: {message}, key: {key}\"\n",
    "\n",
    "# compare_des_timing()\n",
    "# print(\"Done\")"
   ]
  }
 ],
 "metadata": {
  "kernelspec": {
   "display_name": "Python 3 (ipykernel)",
   "language": "python",
   "name": "python3"
  },
  "language_info": {
   "codemirror_mode": {
    "name": "ipython",
    "version": 3
   },
   "file_extension": ".py",
   "mimetype": "text/x-python",
   "name": "python",
   "nbconvert_exporter": "python",
   "pygments_lexer": "ipython3",
   "version": "3.10.4"
  }
 },
 "nbformat": 4,
 "nbformat_minor": 5
}
