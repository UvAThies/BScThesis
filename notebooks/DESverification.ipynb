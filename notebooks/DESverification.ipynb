{
 "cells": [
  {
   "cell_type": "code",
   "execution_count": 1,
   "id": "f5258062",
   "metadata": {},
   "outputs": [],
   "source": [
    "import sys \n",
    "import os\n",
    "# This is needed for imports to local python modules to work!\n",
    "sys.path.append(os.path.abspath(\"/home/xilinx/jupyter_notebooks/thies/notebooks\"))\n",
    "\n",
    "from fpga_implementation import DESEncryptor, BaseFPGAEncryptor, TDESEncryptor, SDESEncryptor\n",
    "from pydes_implementation import PyDES, PyTDES"
   ]
  },
  {
   "cell_type": "code",
   "execution_count": 2,
   "id": "b018a48f",
   "metadata": {},
   "outputs": [],
   "source": [
    "def generic_test(f1, f2, test_vector_length=1):\n",
    "    test_vectors = [\n",
    "        {\"message\": \"ABCDEFGH\", \"key\": \"12345678\" * test_vector_length },\n",
    "        {\"message\": \"ABCDEFGHabcdefgh\", \"key\": \"12345678\"* test_vector_length},\n",
    "        {\"message\": \"ABCDEFG\", \"key\": \"12345678\"* test_vector_length},\n",
    "        {\"message\": \"\", \"key\": \"12345678\"* test_vector_length},\n",
    "        {\"message\": \"ABCDEFGHIJKLMNOPQRSTUVWXYZ123456\", \"key\": \"12345678\"* test_vector_length},\n",
    "    ]\n",
    "\n",
    "    for test_vector in test_vectors:\n",
    "        message = test_vector[\"message\"]\n",
    "        key = test_vector[\"key\"]\n",
    "        print(f\"Message: {message}, Key: {key}\")\n",
    "        \n",
    "        f1_results = f1(message, key)\n",
    "        f2_results = f2(message, key)\n",
    "\n",
    "        assert f1_results == f2_results, f\"Results do not match for message: {message}, key: {key}. f1: {f1_results}, f2: {f2_results}\"\n",
    "        \n",
    "    print(\"done\")"
   ]
  },
  {
   "cell_type": "code",
   "execution_count": 3,
   "id": "d1c77078",
   "metadata": {},
   "outputs": [
    {
     "data": {
      "application/javascript": [
       "\n",
       "try {\n",
       "require(['notebook/js/codecell'], function(codecell) {\n",
       "  codecell.CodeCell.options_default.highlight_modes[\n",
       "      'magic_text/x-csrc'] = {'reg':[/^%%microblaze/]};\n",
       "  Jupyter.notebook.events.one('kernel_ready.Kernel', function(){\n",
       "      Jupyter.notebook.get_cells().map(function(cell){\n",
       "          if (cell.cell_type == 'code'){ cell.auto_highlight(); } }) ;\n",
       "  });\n",
       "});\n",
       "} catch (e) {};\n"
      ]
     },
     "metadata": {},
     "output_type": "display_data"
    },
    {
     "data": {
      "application/javascript": [
       "\n",
       "try {\n",
       "require(['notebook/js/codecell'], function(codecell) {\n",
       "  codecell.CodeCell.options_default.highlight_modes[\n",
       "      'magic_text/x-csrc'] = {'reg':[/^%%pybind11/]};\n",
       "  Jupyter.notebook.events.one('kernel_ready.Kernel', function(){\n",
       "      Jupyter.notebook.get_cells().map(function(cell){\n",
       "          if (cell.cell_type == 'code'){ cell.auto_highlight(); } }) ;\n",
       "  });\n",
       "});\n",
       "} catch (e) {};\n"
      ]
     },
     "metadata": {},
     "output_type": "display_data"
    },
    {
     "ename": "RuntimeError",
     "evalue": "Unable to parse metadata",
     "output_type": "error",
     "traceback": [
      "\u001b[0;31m---------------------------------------------------------------------------\u001b[0m",
      "\u001b[0;31mFileNotFoundError\u001b[0m                         Traceback (most recent call last)",
      "File \u001b[0;32m/usr/local/share/pynq-venv/lib/python3.10/site-packages/pynq/pl_server/embedded_device.py:252\u001b[0m, in \u001b[0;36mBitstreamHandler.get_parser\u001b[0;34m(self, partial)\u001b[0m\n\u001b[1;32m    251\u001b[0m \u001b[38;5;28;01mtry\u001b[39;00m:\n\u001b[0;32m--> 252\u001b[0m     parser \u001b[38;5;241m=\u001b[39m \u001b[38;5;28;43mself\u001b[39;49m\u001b[38;5;241;43m.\u001b[39;49m\u001b[43m_get_cache\u001b[49m\u001b[43m(\u001b[49m\u001b[43m)\u001b[49m \n\u001b[1;32m    253\u001b[0m \u001b[38;5;28;01mexcept\u001b[39;00m CacheMetadataError:\n",
      "File \u001b[0;32m/usr/local/share/pynq-venv/lib/python3.10/site-packages/pynq/pl_server/embedded_device.py:205\u001b[0m, in \u001b[0;36mBitstreamHandler._get_cache\u001b[0;34m(self)\u001b[0m\n\u001b[1;32m    204\u001b[0m \u001b[38;5;250m\u001b[39m\u001b[38;5;124;03m\"\"\" Tries to return the Cached data \"\"\"\u001b[39;00m\n\u001b[0;32m--> 205\u001b[0m \u001b[38;5;28;01mif\u001b[39;00m \u001b[38;5;28;43mself\u001b[39;49m\u001b[38;5;241;43m.\u001b[39;49m\u001b[43m_cache_exists\u001b[49m\u001b[43m(\u001b[49m\u001b[43m)\u001b[49m:\n\u001b[1;32m    206\u001b[0m     metadata_state_file \u001b[38;5;241m=\u001b[39m Path(\u001b[38;5;124mf\u001b[39m\u001b[38;5;124m\"\u001b[39m\u001b[38;5;132;01m{\u001b[39;00mos\u001b[38;5;241m.\u001b[39mpath\u001b[38;5;241m.\u001b[39mdirname(\u001b[38;5;18m__file__\u001b[39m)\u001b[38;5;132;01m}\u001b[39;00m\u001b[38;5;124m/_current_metadata.pkl\u001b[39m\u001b[38;5;124m\"\u001b[39m)\n",
      "File \u001b[0;32m/usr/local/share/pynq-venv/lib/python3.10/site-packages/pynq/pl_server/embedded_device.py:192\u001b[0m, in \u001b[0;36mBitstreamHandler._cache_exists\u001b[0;34m(self)\u001b[0m\n\u001b[1;32m    191\u001b[0m \u001b[38;5;28;01mif\u001b[39;00m global_state_file_exists():\n\u001b[0;32m--> 192\u001b[0m     glob_state \u001b[38;5;241m=\u001b[39m \u001b[43mload_global_state\u001b[49m\u001b[43m(\u001b[49m\u001b[43m)\u001b[49m\n\u001b[1;32m    193\u001b[0m     \u001b[38;5;28;01mreturn\u001b[39;00m glob_state\u001b[38;5;241m.\u001b[39mbitfile_hash \u001b[38;5;241m==\u001b[39m bitstream_hash(\u001b[38;5;28mself\u001b[39m\u001b[38;5;241m.\u001b[39m_filepath)\n",
      "File \u001b[0;32m/usr/local/share/pynq-venv/lib/python3.10/site-packages/pynq/pl_server/global_state.py:91\u001b[0m, in \u001b[0;36mload_global_state\u001b[0;34m()\u001b[0m\n\u001b[1;32m     90\u001b[0m     jdict \u001b[38;5;241m=\u001b[39m json\u001b[38;5;241m.\u001b[39mload(state_file)\n\u001b[0;32m---> 91\u001b[0m     \u001b[38;5;28;01mreturn\u001b[39;00m \u001b[43mGlobalState\u001b[49m\u001b[38;5;241;43m.\u001b[39;49m\u001b[43mparse_obj\u001b[49m\u001b[43m(\u001b[49m\u001b[43mjdict\u001b[49m\u001b[43m)\u001b[49m\n\u001b[1;32m     92\u001b[0m \u001b[38;5;28;01mreturn\u001b[39;00m \u001b[38;5;28;01mNone\u001b[39;00m\n",
      "File \u001b[0;32m/usr/local/share/pynq-venv/lib/python3.10/site-packages/pydantic/main.py:521\u001b[0m, in \u001b[0;36mBaseModel.parse_obj\u001b[0;34m(cls, obj)\u001b[0m\n\u001b[1;32m    520\u001b[0m         \u001b[38;5;28;01mraise\u001b[39;00m ValidationError([ErrorWrapper(exc, loc\u001b[38;5;241m=\u001b[39mROOT_KEY)], \u001b[38;5;28mcls\u001b[39m) \u001b[38;5;28;01mfrom\u001b[39;00m\u001b[38;5;250m \u001b[39m\u001b[38;5;21;01me\u001b[39;00m\n\u001b[0;32m--> 521\u001b[0m \u001b[38;5;28;01mreturn\u001b[39;00m \u001b[38;5;28;43mcls\u001b[39;49m\u001b[43m(\u001b[49m\u001b[38;5;241;43m*\u001b[39;49m\u001b[38;5;241;43m*\u001b[39;49m\u001b[43mobj\u001b[49m\u001b[43m)\u001b[49m\n",
      "File \u001b[0;32m/usr/local/share/pynq-venv/lib/python3.10/site-packages/pynq/pl_server/global_state.py:49\u001b[0m, in \u001b[0;36mGlobalState.__init__\u001b[0;34m(self, **kwargs)\u001b[0m\n\u001b[1;32m     48\u001b[0m \u001b[38;5;28msuper\u001b[39m()\u001b[38;5;241m.\u001b[39m\u001b[38;5;21m__init__\u001b[39m(\u001b[38;5;241m*\u001b[39m\u001b[38;5;241m*\u001b[39mkwargs)\n\u001b[0;32m---> 49\u001b[0m \u001b[38;5;28mself\u001b[39m\u001b[38;5;241m.\u001b[39mbitfile_hash \u001b[38;5;241m=\u001b[39m \u001b[43mbitstream_hash\u001b[49m\u001b[43m(\u001b[49m\u001b[38;5;28;43mself\u001b[39;49m\u001b[38;5;241;43m.\u001b[39;49m\u001b[43mbitfile_name\u001b[49m\u001b[43m)\u001b[49m\n",
      "File \u001b[0;32m/usr/local/share/pynq-venv/lib/python3.10/site-packages/pynq/pl_server/global_state.py:22\u001b[0m, in \u001b[0;36mbitstream_hash\u001b[0;34m(filename)\u001b[0m\n\u001b[1;32m     21\u001b[0m h \u001b[38;5;241m=\u001b[39m hashlib\u001b[38;5;241m.\u001b[39msha1()\n\u001b[0;32m---> 22\u001b[0m \u001b[38;5;28;01mwith\u001b[39;00m \u001b[38;5;28;43mopen\u001b[39;49m\u001b[43m(\u001b[49m\u001b[43mfilename\u001b[49m\u001b[43m,\u001b[49m\u001b[43m \u001b[49m\u001b[38;5;124;43m'\u001b[39;49m\u001b[38;5;124;43mrb\u001b[39;49m\u001b[38;5;124;43m'\u001b[39;49m\u001b[43m)\u001b[49m \u001b[38;5;28;01mas\u001b[39;00m file:\n\u001b[1;32m     23\u001b[0m     chunk\u001b[38;5;241m=\u001b[39m\u001b[38;5;241m0\u001b[39m\n",
      "\u001b[0;31mFileNotFoundError\u001b[0m: [Errno 2] No such file or directory: '/home/xilinx/jupyter_notebooks/thies/notebooks/tdes_encrypt.bit'",
      "\nDuring handling of the above exception, another exception occurred:\n",
      "\u001b[0;31mRuntimeError\u001b[0m                              Traceback (most recent call last)",
      "Input \u001b[0;32mIn [3]\u001b[0m, in \u001b[0;36m<cell line: 24>\u001b[0;34m()\u001b[0m\n\u001b[1;32m     20\u001b[0m     generic_test(\u001b[38;5;28;01mlambda\u001b[39;00m m, k:fpga_encryptor\u001b[38;5;241m.\u001b[39mencrypt(m,k), \u001b[38;5;28;01mlambda\u001b[39;00m m, k:  pyDes_encryptor\u001b[38;5;241m.\u001b[39mencrypt(m, k)\u001b[38;5;241m.\u001b[39mhex(), \u001b[38;5;241m3\u001b[39m)\n\u001b[1;32m     22\u001b[0m     \u001b[38;5;28;01mdel\u001b[39;00m fpga_encryptor\n\u001b[0;32m---> 24\u001b[0m \u001b[43mtest_compare_des_encrypt\u001b[49m\u001b[43m(\u001b[49m\u001b[43m)\u001b[49m\n\u001b[1;32m     25\u001b[0m test_compare_tdes_encrypt()\n",
      "Input \u001b[0;32mIn [3]\u001b[0m, in \u001b[0;36mtest_compare_des_encrypt\u001b[0;34m()\u001b[0m\n\u001b[1;32m      2\u001b[0m \u001b[38;5;28;01mdef\u001b[39;00m\u001b[38;5;250m \u001b[39m\u001b[38;5;21mtest_compare_des_encrypt\u001b[39m():\n\u001b[1;32m      3\u001b[0m \u001b[38;5;250m    \u001b[39m\u001b[38;5;124;03m\"\"\"\u001b[39;00m\n\u001b[1;32m      4\u001b[0m \u001b[38;5;124;03m    Test to compare the output of the PYNQ DES implementation with the pyDes library.\u001b[39;00m\n\u001b[1;32m      5\u001b[0m \u001b[38;5;124;03m    \"\"\"\u001b[39;00m\n\u001b[0;32m----> 6\u001b[0m     fpga_encryptor \u001b[38;5;241m=\u001b[39m \u001b[43mDESEncryptor\u001b[49m\u001b[43m(\u001b[49m\u001b[43mlogging\u001b[49m\u001b[38;5;241;43m=\u001b[39;49m\u001b[38;5;28;43;01mFalse\u001b[39;49;00m\u001b[43m)\u001b[49m \n\u001b[1;32m      7\u001b[0m     pyDes_encryptor \u001b[38;5;241m=\u001b[39m PyDES()\n\u001b[1;32m      9\u001b[0m     generic_test(\u001b[38;5;28;01mlambda\u001b[39;00m m, k:fpga_encryptor\u001b[38;5;241m.\u001b[39mencrypt(m,k), \u001b[38;5;28;01mlambda\u001b[39;00m m, k:  pyDes_encryptor\u001b[38;5;241m.\u001b[39mencrypt(m, k)\u001b[38;5;241m.\u001b[39mhex())\n",
      "File \u001b[0;32m/home/xilinx/jupyter_notebooks/thies/notebooks/fpga_implementation.py:187\u001b[0m, in \u001b[0;36mDESEncryptor.__init__\u001b[0;34m(self, logging, max_parallel_send)\u001b[0m\n\u001b[1;32m    186\u001b[0m \u001b[38;5;28;01mdef\u001b[39;00m\u001b[38;5;250m \u001b[39m\u001b[38;5;21m__init__\u001b[39m(\u001b[38;5;28mself\u001b[39m, logging\u001b[38;5;241m=\u001b[39m\u001b[38;5;28;01mTrue\u001b[39;00m, max_parallel_send\u001b[38;5;241m=\u001b[39m\u001b[38;5;241m2\u001b[39m\u001b[38;5;241m*\u001b[39m\u001b[38;5;241m*\u001b[39m\u001b[38;5;241m4\u001b[39m):\n\u001b[0;32m--> 187\u001b[0m     \u001b[38;5;28;43msuper\u001b[39;49m\u001b[43m(\u001b[49m\u001b[43m)\u001b[49m\u001b[38;5;241;43m.\u001b[39;49m\u001b[38;5;21;43m__init__\u001b[39;49m\u001b[43m(\u001b[49m\u001b[38;5;241;43m8\u001b[39;49m\u001b[43m,\u001b[49m\u001b[43m \u001b[49m\u001b[38;5;241;43m8\u001b[39;49m\u001b[43m,\u001b[49m\u001b[43m \u001b[49m\u001b[38;5;241;43m8\u001b[39;49m\u001b[43m,\u001b[49m\u001b[43m \u001b[49m\u001b[38;5;124;43m\"\u001b[39;49m\u001b[38;5;124;43m/home/xilinx/jupyter_notebooks/thies/results/des_encrypt.bit\u001b[39;49m\u001b[38;5;124;43m\"\u001b[39;49m\u001b[43m,\u001b[49m\u001b[43m \u001b[49m\u001b[38;5;124;43m\"\u001b[39;49m\u001b[38;5;124;43m/home/xilinx/jupyter_notebooks/thies/results/des_decrypt.bit\u001b[39;49m\u001b[38;5;124;43m\"\u001b[39;49m\u001b[43m,\u001b[49m\u001b[43m \u001b[49m\u001b[43mlogging\u001b[49m\u001b[43m,\u001b[49m\u001b[43m \u001b[49m\u001b[43mmax_parallel_send\u001b[49m\u001b[43m)\u001b[49m\n",
      "File \u001b[0;32m/home/xilinx/jupyter_notebooks/thies/notebooks/fpga_implementation.py:28\u001b[0m, in \u001b[0;36mBaseFPGAEncryptor.__init__\u001b[0;34m(self, size_of_message, size_of_key, size_of_return, bitstream_encryptor, bitstream_decryptor, logging, max_parallel_send)\u001b[0m\n\u001b[1;32m     26\u001b[0m \u001b[38;5;28mself\u001b[39m\u001b[38;5;241m.\u001b[39mbitstream_encryptor \u001b[38;5;241m=\u001b[39m bitstream_encryptor\n\u001b[1;32m     27\u001b[0m \u001b[38;5;28mself\u001b[39m\u001b[38;5;241m.\u001b[39mbitstream_decryptor \u001b[38;5;241m=\u001b[39m bitstream_decryptor\n\u001b[0;32m---> 28\u001b[0m \u001b[38;5;28;43mself\u001b[39;49m\u001b[38;5;241;43m.\u001b[39;49m\u001b[43m_init_overlay\u001b[49m\u001b[43m(\u001b[49m\u001b[43mbitstream_encryptor\u001b[49m\u001b[43m)\u001b[49m\n\u001b[1;32m     30\u001b[0m \u001b[38;5;66;03m# Program bitstream to FPGA\u001b[39;00m\n\u001b[1;32m     31\u001b[0m \u001b[38;5;28mself\u001b[39m\u001b[38;5;241m.\u001b[39mlogging \u001b[38;5;241m=\u001b[39m logging\n",
      "File \u001b[0;32m/home/xilinx/jupyter_notebooks/thies/notebooks/fpga_implementation.py:65\u001b[0m, in \u001b[0;36mBaseFPGAEncryptor._init_overlay\u001b[0;34m(self, bitstream_path)\u001b[0m\n\u001b[1;32m     63\u001b[0m \u001b[38;5;28;01mif\u001b[39;00m \u001b[38;5;28mhasattr\u001b[39m(\u001b[38;5;28mself\u001b[39m, \u001b[38;5;124m\"\u001b[39m\u001b[38;5;124moverlay\u001b[39m\u001b[38;5;124m\"\u001b[39m):\n\u001b[1;32m     64\u001b[0m     \u001b[38;5;28;01mdel\u001b[39;00m \u001b[38;5;28mself\u001b[39m\u001b[38;5;241m.\u001b[39moverlay\n\u001b[0;32m---> 65\u001b[0m \u001b[38;5;28mself\u001b[39m\u001b[38;5;241m.\u001b[39moverlay \u001b[38;5;241m=\u001b[39m \u001b[43mOverlay\u001b[49m\u001b[43m(\u001b[49m\u001b[43mbitstream_path\u001b[49m\u001b[43m)\u001b[49m\n\u001b[1;32m     66\u001b[0m \u001b[38;5;28mself\u001b[39m\u001b[38;5;241m.\u001b[39mdma \u001b[38;5;241m=\u001b[39m \u001b[38;5;28mself\u001b[39m\u001b[38;5;241m.\u001b[39moverlay\u001b[38;5;241m.\u001b[39maxi_dma_0\n\u001b[1;32m     67\u001b[0m \u001b[38;5;28mself\u001b[39m\u001b[38;5;241m.\u001b[39mdma_send \u001b[38;5;241m=\u001b[39m \u001b[38;5;28mself\u001b[39m\u001b[38;5;241m.\u001b[39mdma\u001b[38;5;241m.\u001b[39msendchannel\n",
      "File \u001b[0;32m/usr/local/share/pynq-venv/lib/python3.10/site-packages/pynq/overlay.py:319\u001b[0m, in \u001b[0;36mOverlay.__init__\u001b[0;34m(self, bitfile_name, dtbo, download, ignore_version, device, gen_cache)\u001b[0m\n\u001b[1;32m    315\u001b[0m \u001b[38;5;28msuper\u001b[39m()\u001b[38;5;241m.\u001b[39m\u001b[38;5;21m__init__\u001b[39m(bitfile_name, dtbo, partial\u001b[38;5;241m=\u001b[39m\u001b[38;5;28;01mFalse\u001b[39;00m, device\u001b[38;5;241m=\u001b[39mdevice)\n\u001b[1;32m    317\u001b[0m \u001b[38;5;28mself\u001b[39m\u001b[38;5;241m.\u001b[39m_register_drivers()\n\u001b[0;32m--> 319\u001b[0m \u001b[38;5;28;43mself\u001b[39;49m\u001b[38;5;241;43m.\u001b[39;49m\u001b[43mdevice\u001b[49m\u001b[38;5;241;43m.\u001b[39;49m\u001b[43mset_bitfile_name\u001b[49m\u001b[43m(\u001b[49m\u001b[38;5;28;43mself\u001b[39;49m\u001b[38;5;241;43m.\u001b[39;49m\u001b[43mbitfile_name\u001b[49m\u001b[43m)\u001b[49m\n\u001b[1;32m    320\u001b[0m \u001b[38;5;28mself\u001b[39m\u001b[38;5;241m.\u001b[39mparser \u001b[38;5;241m=\u001b[39m \u001b[38;5;28mself\u001b[39m\u001b[38;5;241m.\u001b[39mdevice\u001b[38;5;241m.\u001b[39mparser\n\u001b[1;32m    322\u001b[0m \u001b[38;5;28mself\u001b[39m\u001b[38;5;241m.\u001b[39mip_dict \u001b[38;5;241m=\u001b[39m (\n\u001b[1;32m    323\u001b[0m     \u001b[38;5;28mself\u001b[39m\u001b[38;5;241m.\u001b[39mgpio_dict\n\u001b[1;32m    324\u001b[0m ) \u001b[38;5;241m=\u001b[39m (\n\u001b[1;32m    325\u001b[0m     \u001b[38;5;28mself\u001b[39m\u001b[38;5;241m.\u001b[39minterrupt_controllers\n\u001b[1;32m    326\u001b[0m ) \u001b[38;5;241m=\u001b[39m \u001b[38;5;28mself\u001b[39m\u001b[38;5;241m.\u001b[39minterrupt_pins \u001b[38;5;241m=\u001b[39m \u001b[38;5;28mself\u001b[39m\u001b[38;5;241m.\u001b[39mhierarchy_dict \u001b[38;5;241m=\u001b[39m \u001b[38;5;28mdict\u001b[39m()\n",
      "File \u001b[0;32m/usr/local/share/pynq-venv/lib/python3.10/site-packages/pynq/pl_server/device.py:118\u001b[0m, in \u001b[0;36mDevice.set_bitfile_name\u001b[0;34m(self, bitfile_name)\u001b[0m\n\u001b[1;32m    116\u001b[0m \u001b[38;5;28;01mdef\u001b[39;00m\u001b[38;5;250m \u001b[39m\u001b[38;5;21mset_bitfile_name\u001b[39m(\u001b[38;5;28mself\u001b[39m, bitfile_name: \u001b[38;5;28mstr\u001b[39m) \u001b[38;5;241m-\u001b[39m\u001b[38;5;241m>\u001b[39m \u001b[38;5;28;01mNone\u001b[39;00m:\n\u001b[1;32m    117\u001b[0m     \u001b[38;5;28mself\u001b[39m\u001b[38;5;241m.\u001b[39mbitfile_name \u001b[38;5;241m=\u001b[39m bitfile_name\n\u001b[0;32m--> 118\u001b[0m     \u001b[38;5;28mself\u001b[39m\u001b[38;5;241m.\u001b[39mparser \u001b[38;5;241m=\u001b[39m \u001b[38;5;28;43mself\u001b[39;49m\u001b[38;5;241;43m.\u001b[39;49m\u001b[43mget_bitfile_metadata\u001b[49m\u001b[43m(\u001b[49m\u001b[38;5;28;43mself\u001b[39;49m\u001b[38;5;241;43m.\u001b[39;49m\u001b[43mbitfile_name\u001b[49m\u001b[43m)\u001b[49m\n\u001b[1;32m    119\u001b[0m     \u001b[38;5;28mself\u001b[39m\u001b[38;5;241m.\u001b[39mmem_dict \u001b[38;5;241m=\u001b[39m \u001b[38;5;28mself\u001b[39m\u001b[38;5;241m.\u001b[39mparser\u001b[38;5;241m.\u001b[39mmem_dict\n\u001b[1;32m    120\u001b[0m     \u001b[38;5;28mself\u001b[39m\u001b[38;5;241m.\u001b[39mip_dict \u001b[38;5;241m=\u001b[39m \u001b[38;5;28mself\u001b[39m\u001b[38;5;241m.\u001b[39mparser\u001b[38;5;241m.\u001b[39mip_dict\n",
      "File \u001b[0;32m/usr/local/share/pynq-venv/lib/python3.10/site-packages/pynq/pl_server/embedded_device.py:690\u001b[0m, in \u001b[0;36mEmbeddedDevice.get_bitfile_metadata\u001b[0;34m(self, bitfile_name, partial)\u001b[0m\n\u001b[1;32m    689\u001b[0m \u001b[38;5;28;01mdef\u001b[39;00m\u001b[38;5;250m \u001b[39m\u001b[38;5;21mget_bitfile_metadata\u001b[39m(\u001b[38;5;28mself\u001b[39m, bitfile_name:\u001b[38;5;28mstr\u001b[39m, partial:\u001b[38;5;28mbool\u001b[39m\u001b[38;5;241m=\u001b[39m\u001b[38;5;28;01mFalse\u001b[39;00m):\n\u001b[0;32m--> 690\u001b[0m     parser \u001b[38;5;241m=\u001b[39m \u001b[43m_get_bitstream_handler\u001b[49m\u001b[43m(\u001b[49m\u001b[43mbitfile_name\u001b[49m\u001b[43m)\u001b[49m\u001b[38;5;241;43m.\u001b[39;49m\u001b[43mget_parser\u001b[49m\u001b[43m(\u001b[49m\u001b[43mpartial\u001b[49m\u001b[38;5;241;43m=\u001b[39;49m\u001b[43mpartial\u001b[49m\u001b[43m)\u001b[49m\n\u001b[1;32m    691\u001b[0m     \u001b[38;5;28;01mif\u001b[39;00m parser \u001b[38;5;129;01mis\u001b[39;00m \u001b[38;5;28;01mNone\u001b[39;00m:\n\u001b[1;32m    692\u001b[0m         \u001b[38;5;28;01mraise\u001b[39;00m \u001b[38;5;167;01mRuntimeError\u001b[39;00m(\u001b[38;5;124m\"\u001b[39m\u001b[38;5;124mUnable to find metadata for bitstream\u001b[39m\u001b[38;5;124m\"\u001b[39m)\n",
      "File \u001b[0;32m/usr/local/share/pynq-venv/lib/python3.10/site-packages/pynq/pl_server/embedded_device.py:256\u001b[0m, in \u001b[0;36mBitstreamHandler.get_parser\u001b[0;34m(self, partial)\u001b[0m\n\u001b[1;32m    254\u001b[0m         parser \u001b[38;5;241m=\u001b[39m RuntimeMetadataParser(Metadata(\u001b[38;5;28minput\u001b[39m\u001b[38;5;241m=\u001b[39m\u001b[38;5;28mself\u001b[39m\u001b[38;5;241m.\u001b[39m_filepath\u001b[38;5;241m.\u001b[39mwith_suffix(\u001b[38;5;124m\"\u001b[39m\u001b[38;5;124m.hwh\u001b[39m\u001b[38;5;124m\"\u001b[39m)))\n\u001b[1;32m    255\u001b[0m     \u001b[38;5;28;01mexcept\u001b[39;00m:\n\u001b[0;32m--> 256\u001b[0m         \u001b[38;5;28;01mraise\u001b[39;00m \u001b[38;5;167;01mRuntimeError\u001b[39;00m(\u001b[38;5;124mf\u001b[39m\u001b[38;5;124m\"\u001b[39m\u001b[38;5;124mUnable to parse metadata\u001b[39m\u001b[38;5;124m\"\u001b[39m)\n\u001b[1;32m    258\u001b[0m \u001b[38;5;28;01mif\u001b[39;00m xclbin_data \u001b[38;5;129;01mis\u001b[39;00m \u001b[38;5;28;01mNone\u001b[39;00m:\n\u001b[1;32m    259\u001b[0m     xclbin_data \u001b[38;5;241m=\u001b[39m _create_xclbin(parser\u001b[38;5;241m.\u001b[39mmem_dict)\n",
      "\u001b[0;31mRuntimeError\u001b[0m: Unable to parse metadata"
     ]
    }
   ],
   "source": [
    "# Test Cases\n",
    "def test_compare_des_encrypt():\n",
    "    \"\"\"\n",
    "    Test to compare the output of the PYNQ DES implementation with the pyDes library.\n",
    "    \"\"\"\n",
    "    fpga_encryptor = DESEncryptor(logging=False) \n",
    "    pyDes_encryptor = PyDES()\n",
    "    \n",
    "    generic_test(lambda m, k:fpga_encryptor.encrypt(m,k), lambda m, k:  pyDes_encryptor.encrypt(m, k).hex())\n",
    "\n",
    "    del fpga_encryptor\n",
    "\n",
    "def test_compare_tdes_encrypt():\n",
    "    \"\"\"\n",
    "    Test to compare the output of the PYNQ DES implementation with the pyDes library.\n",
    "    \"\"\"\n",
    "    fpga_encryptor = TDESEncryptor(logging=False) \n",
    "    pyDes_encryptor = PyTDES()\n",
    "    \n",
    "    generic_test(lambda m, k:fpga_encryptor.encrypt(m,k), lambda m, k:  pyDes_encryptor.encrypt(m, k).hex(), 3)\n",
    "\n",
    "    del fpga_encryptor\n",
    "    \n",
    "test_compare_des_encrypt()\n",
    "test_compare_tdes_encrypt()"
   ]
  },
  {
   "cell_type": "code",
   "execution_count": null,
   "id": "f088bd61",
   "metadata": {},
   "outputs": [],
   "source": [
    "# Test Cases\n",
    "def test_compare_des_decrypt():\n",
    "    \"\"\"\n",
    "    Test to compare the output of the PYNQ DES implementation with the pyDes library.\n",
    "    \"\"\"\n",
    "    fpga_encryptor = DESEncryptor() \n",
    "    pyDes_encryptor = PyDES()\n",
    "\n",
    "    generic_test(lambda m, k:fpga_encryptor.decrypt(m,k), lambda m, k:  pyDes_encryptor.decrypt(m, k).hex())\n",
    "    del fpga_encryptor\n",
    "\n",
    "def test_compare_tdes_decrypt():\n",
    "    \"\"\"\n",
    "    Test to compare the output of the PYNQ DES implementation with the pyDes library.\n",
    "    \"\"\"\n",
    "    fpga_encryptor = TDESEncryptor() \n",
    "    pyDes_encryptor = PyTDES()\n",
    "\n",
    "    generic_test(lambda m, k:fpga_encryptor.decrypt(m,k), lambda m, k:  pyDes_encryptor.decrypt(m, k).hex(), 3)\n",
    "    del fpga_encryptor\n",
    "    \n",
    "test_compare_des_decrypt()\n",
    "test_compare_tdes_decrypt()"
   ]
  },
  {
   "cell_type": "code",
   "execution_count": null,
   "id": "288b57d6",
   "metadata": {},
   "outputs": [],
   "source": [
    "fpga_encryptor = SDESEncryptor() "
   ]
  },
  {
   "cell_type": "code",
   "execution_count": null,
   "id": "6cbfd4ad",
   "metadata": {},
   "outputs": [],
   "source": [
    "fpga_encryptor.input_buffer\n"
   ]
  },
  {
   "cell_type": "code",
   "execution_count": null,
   "id": "32c12e1b",
   "metadata": {},
   "outputs": [],
   "source": [
    "fpga_encryptor.encrypt_bytes(bytes.fromhex(\"28\"),bytes.fromhex(\"00031E\"))\n"
   ]
  },
  {
   "cell_type": "code",
   "execution_count": null,
   "id": "5b8c5129",
   "metadata": {},
   "outputs": [],
   "source": [
    "# # Performance\n",
    "\n",
    "# def compare_des_timing():\n",
    "#     \"\"\"\n",
    "#     Compares the execution time of the PYNQ DES implementation with the pyDes library.\n",
    "#     \"\"\"\n",
    "\n",
    "#     test_vectors = [\n",
    "#         {\"message\": \"ABCDEFGH\", \"key\": \"12345678\"},\n",
    "#         {\"message\": \"ABCDEFGHabcdefgh\", \"key\": \"12345678\"},\n",
    "#         {\"message\": \"ABCDEFG\", \"key\": \"12345678\"},\n",
    "#         {\"message\": \"\", \"key\": \"12345678\"},\n",
    "#         {\"message\": \"ABCDEFGHIJKLMNOPQRSTUVWXYZ123456\", \"key\": \"12345678\"},\n",
    "#         {\"message\": \"ABCDEFGHIJKLMNOPQRSTUVWXYZ123456ABCDEFGHIJKLMNOPQRSTUVWXYZ123456\", \"key\": \"12345678\"},\n",
    "#         {\"message\": \"A\" * 128, \"key\": \"12345678\"},\n",
    "#         {\"message\": \"A\" * 128 * 4, \"key\": \"12345678\"},\n",
    "# #         {\"message\": \"A\" * 2 ** 20 * 8, \"key\": \"12345678\"},\n",
    "#     ]\n",
    "    \n",
    "    \n",
    "#     largest_size = max(map(lambda x: len(x[\"message\"]), test_vectors)) // 8\n",
    "#     print(\"Instanting DES encryptor with size: \", largest_size)\n",
    "    \n",
    "#     encryptor = DESEncryptor(logging=False, max_parallel_send=largest_size)  # Create an instance of DESEncryptor\n",
    "    \n",
    "\n",
    "#     num_iterations = 10  # Number of times to repeat the encryption for timing\n",
    "\n",
    "#     print(\"Timing Comparison:\")\n",
    "#     print(f\"Number of iterations: {num_iterations}\")\n",
    "\n",
    "#     for test_vector in test_vectors:\n",
    "#         message = test_vector[\"message\"]\n",
    "#         key = test_vector[\"key\"]\n",
    "\n",
    "#         # Time PYNQ encryption\n",
    "#         start_time_pynq = time.time()\n",
    "#         for _ in range(num_iterations):\n",
    "#             pynq_result_hex = encryptor.encrypt(message, key)\n",
    "#         end_time_pynq = time.time()\n",
    "#         pynq_time = end_time_pynq - start_time_pynq\n",
    "\n",
    "#         # Time pyDes encryption\n",
    "#         start_time_pydes = time.time()\n",
    "#         for _ in range(num_iterations):\n",
    "#             pyDes_result_bytes = encrypt_with_pyDes(message, key)\n",
    "#         end_time_pydes = time.time()\n",
    "#         pydes_time = end_time_pydes - start_time_pydes\n",
    "\n",
    "#         print(f\"\\nMessage: {message}, Key: {key}\")\n",
    "#         print(f\"PYNQ Time: {pynq_time:.6f} seconds\")\n",
    "#         print(f\"pyDes Time: {pydes_time:.6f} seconds\")\n",
    "#         print(f\"Speed up of: {pydes_time / pynq_time:.6f}\")\n",
    "\n",
    "#         # Compare the results (optional, for functional verification)\n",
    "#         pynq_result_bytes = bytes.fromhex(pynq_result_hex)\n",
    "#         pyDes_result_bytes = encrypt_with_pyDes(message, key)\n",
    "#         assert pynq_result_bytes == pyDes_result_bytes, f\"Results do not match for message: {message}, key: {key}\"\n",
    "\n",
    "# compare_des_timing()\n",
    "# print(\"Done\")"
   ]
  }
 ],
 "metadata": {
  "kernelspec": {
   "display_name": "Python 3 (ipykernel)",
   "language": "python",
   "name": "python3"
  },
  "language_info": {
   "codemirror_mode": {
    "name": "ipython",
    "version": 3
   },
   "file_extension": ".py",
   "mimetype": "text/x-python",
   "name": "python",
   "nbconvert_exporter": "python",
   "pygments_lexer": "ipython3",
   "version": "3.10.4"
  }
 },
 "nbformat": 4,
 "nbformat_minor": 5
}
