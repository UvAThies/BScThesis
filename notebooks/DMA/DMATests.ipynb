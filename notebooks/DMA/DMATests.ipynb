{
 "cells": [
  {
   "cell_type": "code",
   "execution_count": 7,
   "metadata": {},
   "outputs": [
    {
     "name": "stdout",
     "output_type": "stream",
     "text": [
      "/home/xilinx/jupyter_notebooks/thies/notebooks/DMA\n"
     ]
    }
   ],
   "source": [
    "from pynq import Overlay\n",
    "from pynq import MMIO\n",
    "from pynq import allocate\n",
    "import numpy as np\n",
    "import math\n",
    "import os\n",
    "\n",
    "print(os.getcwd())\n",
    "# Program bitstream to FPGA\n",
    "overlay = Overlay('./DES_axi_wrapper.bit')\n",
    "\n",
    "# Access to AXI DMA\n",
    "dma = overlay.axi_dma_0\n",
    "dma_send = dma.sendchannel\n",
    "dma_recv = dma.recvchannel"
   ]
  },
  {
   "cell_type": "code",
   "execution_count": 8,
   "metadata": {},
   "outputs": [
    {
     "name": "stdout",
     "output_type": "stream",
     "text": [
      "Using 8x type with input: 128 bits, and output: 64 bits\n"
     ]
    }
   ],
   "source": [
    "SIZE_OF_ALGO = 8 # 8 bytes = 64 bits\n",
    "MAX_PARALLEL_SEND = 8\n",
    "\n",
    "input_type = np.dtype((\">V\", SIZE_OF_ALGO * 2))\n",
    "output_type = np.dtype((\">V\", SIZE_OF_ALGO))\n",
    "print(f\"Using {MAX_PARALLEL_SEND}x type with input: {input_type.itemsize * 8} bits, and output: {output_type.itemsize * 8} bits\")\n",
    "\n",
    "# Allocate physical memory\n",
    "input_buffer = allocate(shape=(MAX_PARALLEL_SEND,), dtype=input_type)\n",
    "output_buffer = allocate(shape=(MAX_PARALLEL_SEND,), dtype=output_type)"
   ]
  },
  {
   "cell_type": "code",
   "execution_count": 9,
   "metadata": {},
   "outputs": [
    {
     "name": "stdout",
     "output_type": "stream",
     "text": [
      "4242424242424242\n",
      "4141414141414141\n"
     ]
    }
   ],
   "source": [
    "message = \"AAAAAAAA\"\n",
    "key = \"BBBBBBBB\"\n",
    "\n",
    "\n",
    "key_bytes = bytes(key, \"ascii\")\n",
    "assert(len(key_bytes) == 8)\n",
    "print(key_bytes.hex())\n",
    "\n",
    "message_bytes = bytes(message, \"ascii\")\n",
    "print(message_bytes.hex())\n",
    "\n",
    "iterations = math.ceil(len(message_bytes) / SIZE_OF_ALGO)\n",
    "assert(iterations < MAX_PARALLEL_SEND)"
   ]
  },
  {
   "cell_type": "code",
   "execution_count": 4,
   "metadata": {},
   "outputs": [
    {
     "name": "stdout",
     "output_type": "stream",
     "text": [
      "b'\\x42\\x42\\x42\\x42\\x42\\x42\\x42\\x42\\x41\\x41\\x41\\x41\\x41\\x41\\x41\\x41'\n"
     ]
    }
   ],
   "source": [
    "# Write input\n",
    "for i in range(iterations):\n",
    "    part = message_bytes[8 * i : 8 * (i + 1)]\n",
    "    input_buffer[i] = ((part + bytes(SIZE_OF_ALGO - len(part))) + key_bytes[0:8])[::-1]\n",
    "    \n",
    "    print(input_buffer[i])"
   ]
  },
  {
   "cell_type": "code",
   "execution_count": 13,
   "metadata": {},
   "outputs": [
    {
     "ename": "TypeError",
     "evalue": "'numpy.void' object cannot be interpreted as an integer",
     "output_type": "error",
     "traceback": [
      "\u001b[0;31m---------------------------------------------------------------------------\u001b[0m",
      "\u001b[0;31mTypeError\u001b[0m                                 Traceback (most recent call last)",
      "Input \u001b[0;32mIn [13]\u001b[0m, in \u001b[0;36m<cell line: 2>\u001b[0;34m()\u001b[0m\n\u001b[1;32m      1\u001b[0m \u001b[38;5;66;03m# # Check the written data\u001b[39;00m\n\u001b[1;32m      2\u001b[0m \u001b[38;5;28;01mfor\u001b[39;00m i \u001b[38;5;129;01min\u001b[39;00m \u001b[38;5;28mrange\u001b[39m(iterations):\n\u001b[0;32m----> 3\u001b[0m     \u001b[38;5;28mprint\u001b[39m(\u001b[38;5;124m\"\u001b[39m\u001b[38;5;124mData: \u001b[39m\u001b[38;5;124m\"\u001b[39m, \u001b[43mnp\u001b[49m\u001b[38;5;241;43m.\u001b[39;49m\u001b[43mbinary_repr\u001b[49m\u001b[43m(\u001b[49m\u001b[43minput_buffer\u001b[49m\u001b[43m[\u001b[49m\u001b[43mi\u001b[49m\u001b[43m]\u001b[49m\u001b[43m)\u001b[49m)\n",
      "File \u001b[0;32m/usr/lib/python3/dist-packages/numpy/core/numeric.py:2020\u001b[0m, in \u001b[0;36mbinary_repr\u001b[0;34m(num, width)\u001b[0m\n\u001b[1;32m   2013\u001b[0m         warnings\u001b[38;5;241m.\u001b[39mwarn(\n\u001b[1;32m   2014\u001b[0m             \u001b[38;5;124m\"\u001b[39m\u001b[38;5;124mInsufficient bit width provided. This behavior \u001b[39m\u001b[38;5;124m\"\u001b[39m\n\u001b[1;32m   2015\u001b[0m             \u001b[38;5;124m\"\u001b[39m\u001b[38;5;124mwill raise an error in the future.\u001b[39m\u001b[38;5;124m\"\u001b[39m, \u001b[38;5;167;01mDeprecationWarning\u001b[39;00m,\n\u001b[1;32m   2016\u001b[0m             stacklevel\u001b[38;5;241m=\u001b[39m\u001b[38;5;241m3\u001b[39m)\n\u001b[1;32m   2018\u001b[0m \u001b[38;5;66;03m# Ensure that num is a Python integer to avoid overflow or unwanted\u001b[39;00m\n\u001b[1;32m   2019\u001b[0m \u001b[38;5;66;03m# casts to floating point.\u001b[39;00m\n\u001b[0;32m-> 2020\u001b[0m num \u001b[38;5;241m=\u001b[39m \u001b[43moperator\u001b[49m\u001b[38;5;241;43m.\u001b[39;49m\u001b[43mindex\u001b[49m\u001b[43m(\u001b[49m\u001b[43mnum\u001b[49m\u001b[43m)\u001b[49m\n\u001b[1;32m   2022\u001b[0m \u001b[38;5;28;01mif\u001b[39;00m num \u001b[38;5;241m==\u001b[39m \u001b[38;5;241m0\u001b[39m:\n\u001b[1;32m   2023\u001b[0m     \u001b[38;5;28;01mreturn\u001b[39;00m \u001b[38;5;124m'\u001b[39m\u001b[38;5;124m0\u001b[39m\u001b[38;5;124m'\u001b[39m \u001b[38;5;241m*\u001b[39m (width \u001b[38;5;129;01mor\u001b[39;00m \u001b[38;5;241m1\u001b[39m)\n",
      "\u001b[0;31mTypeError\u001b[0m: 'numpy.void' object cannot be interpreted as an integer"
     ]
    }
   ],
   "source": [
    "# # Check the written data\n",
    "for i in range(iterations):\n",
    "    print(\"Data: \", np.binary_repr(input_buffer[i]))"
   ]
  },
  {
   "cell_type": "code",
   "execution_count": 5,
   "metadata": {},
   "outputs": [],
   "source": [
    "# Do AXI DMA MM2S transfer\n",
    "dma_send.transfer(input_buffer)\n",
    "# Do AXI DMA S2MM transfer\n",
    "dma_recv.transfer(output_buffer)"
   ]
  },
  {
   "cell_type": "code",
   "execution_count": 6,
   "metadata": {},
   "outputs": [
    {
     "name": "stdout",
     "output_type": "stream",
     "text": [
      "18ca39bbc12efa57\n"
     ]
    }
   ],
   "source": [
    "# Check the memory content after DMA transfer\n",
    "for i in range(iterations):\n",
    "    print(bytes(output_buffer[i]).hex())"
   ]
  },
  {
   "cell_type": "code",
   "execution_count": 10,
   "metadata": {},
   "outputs": [],
   "source": [
    "\n",
    "# Delete buffer to prevent memory leak\n",
    "del input_buffer, output_buffer"
   ]
  }
 ],
 "metadata": {
  "kernelspec": {
   "display_name": "Python 3 (ipykernel)",
   "language": "python",
   "name": "python3"
  },
  "language_info": {
   "codemirror_mode": {
    "name": "ipython",
    "version": 3
   },
   "file_extension": ".py",
   "mimetype": "text/x-python",
   "name": "python",
   "nbconvert_exporter": "python",
   "pygments_lexer": "ipython3",
   "version": "3.10.4"
  }
 },
 "nbformat": 4,
 "nbformat_minor": 2
}
