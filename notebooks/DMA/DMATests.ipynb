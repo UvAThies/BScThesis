{
 "cells": [
  {
   "cell_type": "code",
   "execution_count": 128,
   "metadata": {},
   "outputs": [],
   "source": [
    "from pynq import Overlay\n",
    "from pynq import MMIO\n",
    "from pynq import allocate\n",
    "import numpy as np\n",
    "import math\n",
    "\n",
    "# Program bitstream to FPGA\n",
    "overlay = Overlay('./DES_axi_wrapper.bit')\n",
    "\n",
    "# Access to AXI DMA\n",
    "dma = overlay.axi_dma_0\n",
    "dma_send = overlay.axi_dma_0.sendchannel\n",
    "dma_recv = overlay.axi_dma_0.recvchannel"
   ]
  },
  {
   "cell_type": "code",
   "execution_count": 195,
   "metadata": {},
   "outputs": [
    {
     "name": "stdout",
     "output_type": "stream",
     "text": [
      "Using 8x type with input: 128 bits, and output: 64 bits\n"
     ]
    }
   ],
   "source": [
    "SIZE_OF_ALGO = 8 # 8 bytes = 64 bits\n",
    "MAX_PARALLEL_SEND = 8\n",
    "\n",
    "input_type = np.dtype((\">V\", SIZE_OF_ALGO * 2))\n",
    "output_type = np.dtype((\">V\", SIZE_OF_ALGO))\n",
    "print(f\"Using {MAX_PARALLEL_SEND}x type with input: {input_type.itemsize * 8} bits, and output: {output_type.itemsize * 8} bits\")\n",
    "\n",
    "# Allocate physical memory\n",
    "input_buffer = allocate(shape=(MAX_PARALLEL_SEND,), dtype=input_type)\n",
    "output_buffer = allocate(shape=(MAX_PARALLEL_SEND,), dtype=output_type)"
   ]
  },
  {
   "cell_type": "code",
   "execution_count": 196,
   "metadata": {},
   "outputs": [
    {
     "name": "stdout",
     "output_type": "stream",
     "text": [
      "4242424242424242\n",
      "48656c6c6f20576f726c6421\n"
     ]
    }
   ],
   "source": [
    "message = \"Hello World!\"\n",
    "key = \"BBBBBBBB\"\n",
    "\n",
    "\n",
    "key_bytes = bytes(key, \"ascii\")\n",
    "assert(len(key_bytes) == 8)\n",
    "print(key_bytes.hex())\n",
    "\n",
    "message_bytes = bytes(message, \"ascii\")\n",
    "print(message_bytes.hex())\n",
    "\n",
    "iterations = math.ceil(len(message_bytes) / SIZE_OF_ALGO)\n",
    "assert(iterations < MAX_PARALLEL_SEND)"
   ]
  },
  {
   "cell_type": "code",
   "execution_count": 197,
   "metadata": {},
   "outputs": [
    {
     "name": "stdout",
     "output_type": "stream",
     "text": [
      "0bb'\\x6F\\x57\\x20\\x6F\\x6C\\x6C\\x65\\x48\\x42\\x42\\x42\\x42\\x42\\x42\\x42\\x42'\n",
      "0bb'\\x00\\x00\\x00\\x00\\x21\\x64\\x6C\\x72\\x42\\x42\\x42\\x42\\x42\\x42\\x42\\x42'\n"
     ]
    }
   ],
   "source": [
    "# Write input\n",
    "for i in range(iterations):\n",
    "    part = message_bytes[8 * i : 8 * (i + 1)]\n",
    "    input_buffer[i] = (part + bytes(SIZE_OF_ALGO - len(part)))[::-1] + key_bytes[0:8][::-1]\n",
    "    \n",
    "    print(f\"0b{input_buffer[i]}\")"
   ]
  },
  {
   "cell_type": "code",
   "execution_count": 113,
   "metadata": {},
   "outputs": [
    {
     "ename": "IndexError",
     "evalue": "too many indices for array: array is 0-dimensional, but 1 were indexed",
     "output_type": "error",
     "traceback": [
      "\u001b[0;31m---------------------------------------------------------------------------\u001b[0m",
      "\u001b[0;31mIndexError\u001b[0m                                Traceback (most recent call last)",
      "Input \u001b[0;32mIn [113]\u001b[0m, in \u001b[0;36m<cell line: 2>\u001b[0;34m()\u001b[0m\n\u001b[1;32m      1\u001b[0m \u001b[38;5;66;03m# Check the written data\u001b[39;00m\n\u001b[1;32m      2\u001b[0m \u001b[38;5;28;01mfor\u001b[39;00m i \u001b[38;5;129;01min\u001b[39;00m \u001b[38;5;28mrange\u001b[39m(\u001b[38;5;241m8\u001b[39m):\n\u001b[0;32m----> 3\u001b[0m     \u001b[38;5;28mprint\u001b[39m(\u001b[38;5;124m\"\u001b[39m\u001b[38;5;124mData: 0x\u001b[39m\u001b[38;5;132;01m%08X\u001b[39;00m\u001b[38;5;124m, Key: 0x\u001b[39m\u001b[38;5;132;01m%08X\u001b[39;00m\u001b[38;5;124m\"\u001b[39m \u001b[38;5;241m%\u001b[39m (\u001b[43minput_buffer\u001b[49m\u001b[43m[\u001b[49m\u001b[43mi\u001b[49m\u001b[43m]\u001b[49m\u001b[43m[\u001b[49m\u001b[38;5;241;43m0\u001b[39;49m\u001b[43m]\u001b[49m, input_buffer[i][\u001b[38;5;241m1\u001b[39m]))\n",
      "\u001b[0;31mIndexError\u001b[0m: too many indices for array: array is 0-dimensional, but 1 were indexed"
     ]
    }
   ],
   "source": [
    "# # Check the written data\n",
    "# for i in range(8):\n",
    "#     print(\"Data: 0x%08X, Key: 0x%08X\" % (input_buffer[i][0], input_buffer[i][1]))"
   ]
  },
  {
   "cell_type": "code",
   "execution_count": 198,
   "metadata": {},
   "outputs": [],
   "source": [
    "# Do AXI DMA MM2S transfer\n",
    "dma_send.transfer(input_buffer)\n",
    "# Do AXI DMA S2MM transfer\n",
    "dma_recv.transfer(output_buffer)"
   ]
  },
  {
   "cell_type": "code",
   "execution_count": 199,
   "metadata": {},
   "outputs": [
    {
     "name": "stdout",
     "output_type": "stream",
     "text": [
      "bd2d6126e67a0567\n",
      "1d7f2fab848b7d4b\n"
     ]
    }
   ],
   "source": [
    "# Check the memory content after DMA transfer\n",
    "for i in range(iterations):\n",
    "    print(bytes(output_buffer[i]).hex()[::-1])"
   ]
  },
  {
   "cell_type": "code",
   "execution_count": 10,
   "metadata": {},
   "outputs": [],
   "source": [
    "\n",
    "# Delete buffer to prevent memory leak\n",
    "del input_buffer, output_buffer"
   ]
  }
 ],
 "metadata": {
  "kernelspec": {
   "display_name": "Python 3 (ipykernel)",
   "language": "python",
   "name": "python3"
  },
  "language_info": {
   "codemirror_mode": {
    "name": "ipython",
    "version": 3
   },
   "file_extension": ".py",
   "mimetype": "text/x-python",
   "name": "python",
   "nbconvert_exporter": "python",
   "pygments_lexer": "ipython3",
   "version": "3.10.4"
  }
 },
 "nbformat": 4,
 "nbformat_minor": 2
}
