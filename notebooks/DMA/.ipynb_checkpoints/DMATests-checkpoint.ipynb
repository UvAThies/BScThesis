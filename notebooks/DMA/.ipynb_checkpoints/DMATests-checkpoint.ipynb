{
 "cells": [
  {
   "cell_type": "code",
   "execution_count": 3,
   "metadata": {},
   "outputs": [
    {
     "name": "stdout",
     "output_type": "stream",
     "text": [
      "/home/xilinx/jupyter_notebooks/thies/notebooks/DMA\n"
     ]
    }
   ],
   "source": [
    "from pynq import Overlay\n",
    "from pynq import MMIO\n",
    "from pynq import allocate\n",
    "import numpy as np\n",
    "import math\n",
    "import os\n",
    "\n",
    "\n",
    "# Program bitstream to FPGA\n",
    "overlay = Overlay('./DES_axi_wrapper.bit')\n",
    "\n",
    "# Access to AXI DMA\n",
    "dma = overlay.axi_dma_0\n",
    "dma_send = dma.sendchannel\n",
    "dma_recv = dma.recvchannel"
   ]
  },
  {
   "cell_type": "code",
   "execution_count": 4,
   "metadata": {},
   "outputs": [
    {
     "name": "stdout",
     "output_type": "stream",
     "text": [
      "Using 8x type with input: 128 bits, and output: 64 bits\n"
     ]
    }
   ],
   "source": [
    "\n",
    "SIZE_OF_ALGO = 8 # 8 bytes = 64 bits\n",
    "MAX_PARALLEL_SEND = 8\n",
    "\n",
    "input_type = np.dtype([(\"message\", np.bytes_, SIZE_OF_ALGO), (\"key\", np.bytes_, SIZE_OF_ALGO)])\n",
    "output_type = np.dtype([(\"result\", np.bytes_, SIZE_OF_ALGO)])\n",
    "print(f\"Using {MAX_PARALLEL_SEND}x type with input: {input_type.itemsize * 8} bits, and output: {output_type.itemsize * 8} bits\")\n",
    "\n",
    "# Allocate physical memory\n",
    "input_buffer = allocate(shape=(MAX_PARALLEL_SEND,), dtype=input_type)\n",
    "output_buffer = allocate(shape=(MAX_PARALLEL_SEND,), dtype=output_type)"
   ]
  },
  {
   "cell_type": "code",
   "execution_count": 5,
   "metadata": {},
   "outputs": [
    {
     "name": "stdout",
     "output_type": "stream",
     "text": [
      "4242424242424242\n",
      "4141414141414141\n"
     ]
    }
   ],
   "source": [
    "message = \"AAAAAAAA\"\n",
    "key = \"BBBBBBBB\"\n",
    "\n",
    "key_bytes = bytes(key, \"ascii\")\n",
    "assert(len(key_bytes) == 8), len(key_bytes)\n",
    "print(key_bytes.hex())\n",
    "\n",
    "message_bytes = bytes(message, \"ascii\")\n",
    "assert(len(message_bytes) == 8), len(key_bytes)\n",
    "print(message_bytes.hex())\n",
    "\n",
    "iterations = math.ceil(len(message_bytes) / SIZE_OF_ALGO)\n",
    "assert(iterations < MAX_PARALLEL_SEND)"
   ]
  },
  {
   "cell_type": "code",
   "execution_count": 6,
   "metadata": {},
   "outputs": [
    {
     "name": "stdout",
     "output_type": "stream",
     "text": [
      "(b'AAAAAAAA', b'BBBBBBBB')\n"
     ]
    }
   ],
   "source": [
    "# Write input\n",
    "for i in range(iterations):\n",
    "    part = message_bytes[8 * i : 8 * (i + 1)]\n",
    "    input_buffer[i] = (message, key)\n",
    "    \n",
    "    print(input_buffer[i])"
   ]
  },
  {
   "cell_type": "code",
   "execution_count": 7,
   "metadata": {},
   "outputs": [],
   "source": [
    "# Do AXI DMA MM2S transfer\n",
    "dma_send.transfer(input_buffer)\n",
    "# Do AXI DMA S2MM transfer\n",
    "dma_recv.transfer(output_buffer)"
   ]
  },
  {
   "cell_type": "code",
   "execution_count": 9,
   "metadata": {},
   "outputs": [
    {
     "name": "stdout",
     "output_type": "stream",
     "text": [
      "57fa2ec1bb39ca18\n"
     ]
    }
   ],
   "source": [
    "# Check the memory content after DMA transfer\n",
    "for i in range(iterations):\n",
    "    print(output_buffer[i].tobytes()[::-1].hex())\n",
    "    \n",
    "assert output_buffer[i].tobytes()[::-1].hex() == \"57FA2EC1BB39CA18\".lower()"
   ]
  },
  {
   "cell_type": "code",
   "execution_count": 10,
   "metadata": {},
   "outputs": [],
   "source": [
    "\n",
    "# Delete buffer to prevent memory leak\n",
    "del input_buffer, output_buffer"
   ]
  }
 ],
 "metadata": {
  "kernelspec": {
   "display_name": "Python 3 (ipykernel)",
   "language": "python",
   "name": "python3"
  },
  "language_info": {
   "codemirror_mode": {
    "name": "ipython",
    "version": 3
   },
   "file_extension": ".py",
   "mimetype": "text/x-python",
   "name": "python",
   "nbconvert_exporter": "python",
   "pygments_lexer": "ipython3",
   "version": "3.10.4"
  }
 },
 "nbformat": 4,
 "nbformat_minor": 2
}
