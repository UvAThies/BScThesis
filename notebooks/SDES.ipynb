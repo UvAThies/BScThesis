{
 "cells": [
  {
   "cell_type": "code",
   "execution_count": 9,
   "metadata": {},
   "outputs": [],
   "source": [
    "from pynq import Overlay\n",
    "import time\n",
    "\n",
    "ol = Overlay(\"./SDES_encrypt.bit\")\n"
   ]
  },
  {
   "cell_type": "code",
   "execution_count": 2,
   "metadata": {},
   "outputs": [
    {
     "name": "stdout",
     "output_type": "stream",
     "text": [
      "Input length: 8, key length: 10 -> output length: 8\n"
     ]
    }
   ],
   "source": [
    "from pynq import GPIO\n",
    "\n",
    "pin_inp = [GPIO(GPIO.get_gpio_pin(i), 'out') for i in range(0,8)]\n",
    "pin_key = [GPIO(GPIO.get_gpio_pin(i), 'out') for i in range(8,18)]\n",
    "\n",
    "\n",
    "pin_output = [GPIO(GPIO.get_gpio_pin(i), 'in') for i in range(18,26)]\n",
    "\n",
    "print(f\"Input length: {len(pin_inp)}, key length: {len(pin_key)} -> output length: {len(pin_output)}\")"
   ]
  },
  {
   "cell_type": "code",
   "execution_count": 7,
   "metadata": {},
   "outputs": [
    {
     "name": "stdout",
     "output_type": "stream",
     "text": [
      "Done in 0.9487783908843994\n",
      "00111000\n"
     ]
    }
   ],
   "source": [
    "def encrypt(text: str, key: str):\n",
    "#     assert len(text) == 8, \"Input should be 8 bits\"\n",
    "#     assert len(key) == 10, \"Key should be 8 bits\"\n",
    "#     assert text.count(\"0\") + text.count(\"1\") == len(text), \"Text should only consist of 1's and 0's\"\n",
    "#     assert key.count(\"0\") + key.count(\"1\") == len(key), \"Key should only consist of 1's and 0's\"\n",
    "\n",
    "    for i, t in enumerate(reversed(text)):\n",
    "        pin_inp[i].write(int(t))\n",
    "    for i, t in enumerate(reversed(key)):\n",
    "        pin_key[i].write(int(t))\n",
    "    \n",
    "    res = [str(a.read()) for a in pin_output]\n",
    "    res.reverse()\n",
    "    \n",
    "  \n",
    "    return \"\".join(res)\n",
    "\n",
    "start = time.time()\n",
    "for i in range(100):\n",
    "    res = encrypt(\"10010111\", \"1010000010\")\n",
    "# res = encrypt(\"1\" * 8, \"1\" * 10)\n",
    "end = time.time()\n",
    "print(f\"Done in {end - start}\")\n",
    "\n",
    "print(res)"
   ]
  },
  {
   "cell_type": "code",
   "execution_count": 10,
   "metadata": {},
   "outputs": [],
   "source": [
    "ol?"
   ]
  }
 ],
 "metadata": {
  "kernelspec": {
   "display_name": "Python 3",
   "language": "python",
   "name": "python3"
  }
 },
 "nbformat": 4,
 "nbformat_minor": 2
}
